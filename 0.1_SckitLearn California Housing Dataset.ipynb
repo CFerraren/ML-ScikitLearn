{
 "cells": [
  {
   "cell_type": "markdown",
   "metadata": {},
   "source": [
    "# Applciation of Sklearn Libraries \n",
    "\n",
    "\n",
    "\n",
    "---\n",
    "\n",
    "\n",
    "### Take a look California Housing data and to machine-learning to predict house-values using demonstrating the used primarily scikit-learna and data science techniques like:\n",
    "\n",
    "- Visualization to gain insights about the data\n",
    "\n",
    "- imputation to replace missing values withough altering the statistic data\n",
    "\n",
    "- label encoding to convert categorical data into numeric categorical data\n",
    "\n",
    "- One-hot encoding \n",
    "\n"
   ]
  },
  {
   "cell_type": "markdown",
   "metadata": {},
   "source": [
    "---"
   ]
  },
  {
   "cell_type": "code",
   "execution_count": 1,
   "metadata": {},
   "outputs": [],
   "source": [
    "# Import Libraries\n",
    "\n",
    "import numpy as np\n",
    "import pandas as pd\n",
    "import matplotlib.pyplot as plt\n",
    "import seaborn as sns\n",
    "\n",
    "import os\n",
    "\n",
    "%matplotlib inline"
   ]
  },
  {
   "cell_type": "code",
   "execution_count": 2,
   "metadata": {},
   "outputs": [],
   "source": [
    "# Fetch Synthetic data from the sklearn\n",
    "\n",
    "from sklearn.datasets import fetch_california_housing"
   ]
  },
  {
   "cell_type": "code",
   "execution_count": 3,
   "metadata": {},
   "outputs": [],
   "source": [
    "housing = fetch_california_housing()"
   ]
  },
  {
   "cell_type": "code",
   "execution_count": 4,
   "metadata": {},
   "outputs": [
    {
     "data": {
      "text/plain": [
       "'.. _california_housing_dataset:\\n\\nCalifornia Housing dataset\\n--------------------------\\n\\n**Data Set Characteristics:**\\n\\n    :Number of Instances: 20640\\n\\n    :Number of Attributes: 8 numeric, predictive attributes and the target\\n\\n    :Attribute Information:\\n        - MedInc        median income in block\\n        - HouseAge      median house age in block\\n        - AveRooms      average number of rooms\\n        - AveBedrms     average number of bedrooms\\n        - Population    block population\\n        - AveOccup      average house occupancy\\n        - Latitude      house block latitude\\n        - Longitude     house block longitude\\n\\n    :Missing Attribute Values: None\\n\\nThis dataset was obtained from the StatLib repository.\\nhttp://lib.stat.cmu.edu/datasets/\\n\\nThe target variable is the median house value for California districts.\\n\\nThis dataset was derived from the 1990 U.S. census, using one row per census\\nblock group. A block group is the smallest geographical unit for which the U.S.\\nCensus Bureau publishes sample data (a block group typically has a population\\nof 600 to 3,000 people).\\n\\nIt can be downloaded/loaded using the\\n:func:`sklearn.datasets.fetch_california_housing` function.\\n\\n.. topic:: References\\n\\n    - Pace, R. Kelley and Ronald Barry, Sparse Spatial Autoregressions,\\n      Statistics and Probability Letters, 33 (1997) 291-297\\n'"
      ]
     },
     "execution_count": 4,
     "metadata": {},
     "output_type": "execute_result"
    }
   ],
   "source": [
    "housing.DESCR"
   ]
  },
  {
   "cell_type": "code",
   "execution_count": 5,
   "metadata": {},
   "outputs": [
    {
     "data": {
      "text/plain": [
       "['MedInc',\n",
       " 'HouseAge',\n",
       " 'AveRooms',\n",
       " 'AveBedrms',\n",
       " 'Population',\n",
       " 'AveOccup',\n",
       " 'Latitude',\n",
       " 'Longitude']"
      ]
     },
     "execution_count": 5,
     "metadata": {},
     "output_type": "execute_result"
    }
   ],
   "source": [
    "housing.feature_names"
   ]
  },
  {
   "cell_type": "code",
   "execution_count": 6,
   "metadata": {},
   "outputs": [],
   "source": [
    "house = os.path.join('Resources','housing.csv')"
   ]
  },
  {
   "cell_type": "code",
   "execution_count": 7,
   "metadata": {},
   "outputs": [
    {
     "data": {
      "text/html": [
       "<div>\n",
       "<style scoped>\n",
       "    .dataframe tbody tr th:only-of-type {\n",
       "        vertical-align: middle;\n",
       "    }\n",
       "\n",
       "    .dataframe tbody tr th {\n",
       "        vertical-align: top;\n",
       "    }\n",
       "\n",
       "    .dataframe thead th {\n",
       "        text-align: right;\n",
       "    }\n",
       "</style>\n",
       "<table border=\"1\" class=\"dataframe\">\n",
       "  <thead>\n",
       "    <tr style=\"text-align: right;\">\n",
       "      <th></th>\n",
       "      <th>0</th>\n",
       "      <th>1</th>\n",
       "      <th>2</th>\n",
       "      <th>3</th>\n",
       "      <th>4</th>\n",
       "    </tr>\n",
       "  </thead>\n",
       "  <tbody>\n",
       "    <tr>\n",
       "      <th>longitude</th>\n",
       "      <td>-122.23</td>\n",
       "      <td>-122.22</td>\n",
       "      <td>-122.24</td>\n",
       "      <td>-122.25</td>\n",
       "      <td>-122.25</td>\n",
       "    </tr>\n",
       "    <tr>\n",
       "      <th>latitude</th>\n",
       "      <td>37.88</td>\n",
       "      <td>37.86</td>\n",
       "      <td>37.85</td>\n",
       "      <td>37.85</td>\n",
       "      <td>37.85</td>\n",
       "    </tr>\n",
       "    <tr>\n",
       "      <th>housing_median_age</th>\n",
       "      <td>41</td>\n",
       "      <td>21</td>\n",
       "      <td>52</td>\n",
       "      <td>52</td>\n",
       "      <td>52</td>\n",
       "    </tr>\n",
       "    <tr>\n",
       "      <th>total_rooms</th>\n",
       "      <td>880</td>\n",
       "      <td>7099</td>\n",
       "      <td>1467</td>\n",
       "      <td>1274</td>\n",
       "      <td>1627</td>\n",
       "    </tr>\n",
       "    <tr>\n",
       "      <th>total_bedrooms</th>\n",
       "      <td>129</td>\n",
       "      <td>1106</td>\n",
       "      <td>190</td>\n",
       "      <td>235</td>\n",
       "      <td>280</td>\n",
       "    </tr>\n",
       "    <tr>\n",
       "      <th>population</th>\n",
       "      <td>322</td>\n",
       "      <td>2401</td>\n",
       "      <td>496</td>\n",
       "      <td>558</td>\n",
       "      <td>565</td>\n",
       "    </tr>\n",
       "    <tr>\n",
       "      <th>households</th>\n",
       "      <td>126</td>\n",
       "      <td>1138</td>\n",
       "      <td>177</td>\n",
       "      <td>219</td>\n",
       "      <td>259</td>\n",
       "    </tr>\n",
       "    <tr>\n",
       "      <th>median_income</th>\n",
       "      <td>8.3252</td>\n",
       "      <td>8.3014</td>\n",
       "      <td>7.2574</td>\n",
       "      <td>5.6431</td>\n",
       "      <td>3.8462</td>\n",
       "    </tr>\n",
       "    <tr>\n",
       "      <th>median_house_value</th>\n",
       "      <td>452600</td>\n",
       "      <td>358500</td>\n",
       "      <td>352100</td>\n",
       "      <td>341300</td>\n",
       "      <td>342200</td>\n",
       "    </tr>\n",
       "    <tr>\n",
       "      <th>ocean_proximity</th>\n",
       "      <td>NEAR BAY</td>\n",
       "      <td>NEAR BAY</td>\n",
       "      <td>NEAR BAY</td>\n",
       "      <td>NEAR BAY</td>\n",
       "      <td>NEAR BAY</td>\n",
       "    </tr>\n",
       "  </tbody>\n",
       "</table>\n",
       "</div>"
      ],
      "text/plain": [
       "                           0         1         2         3         4\n",
       "longitude            -122.23   -122.22   -122.24   -122.25   -122.25\n",
       "latitude               37.88     37.86     37.85     37.85     37.85\n",
       "housing_median_age        41        21        52        52        52\n",
       "total_rooms              880      7099      1467      1274      1627\n",
       "total_bedrooms           129      1106       190       235       280\n",
       "population               322      2401       496       558       565\n",
       "households               126      1138       177       219       259\n",
       "median_income         8.3252    8.3014    7.2574    5.6431    3.8462\n",
       "median_house_value    452600    358500    352100    341300    342200\n",
       "ocean_proximity     NEAR BAY  NEAR BAY  NEAR BAY  NEAR BAY  NEAR BAY"
      ]
     },
     "execution_count": 7,
     "metadata": {},
     "output_type": "execute_result"
    }
   ],
   "source": [
    "# Covert the data to Dataframe\n",
    "\n",
    "housing = pd.read_csv(house)\n",
    "housing[:5].T"
   ]
  },
  {
   "cell_type": "code",
   "execution_count": 8,
   "metadata": {},
   "outputs": [
    {
     "name": "stdout",
     "output_type": "stream",
     "text": [
      "<class 'pandas.core.frame.DataFrame'>\n",
      "RangeIndex: 20640 entries, 0 to 20639\n",
      "Data columns (total 10 columns):\n",
      "longitude             20640 non-null float64\n",
      "latitude              20640 non-null float64\n",
      "housing_median_age    20640 non-null float64\n",
      "total_rooms           20640 non-null float64\n",
      "total_bedrooms        20433 non-null float64\n",
      "population            20640 non-null float64\n",
      "households            20640 non-null float64\n",
      "median_income         20640 non-null float64\n",
      "median_house_value    20640 non-null float64\n",
      "ocean_proximity       20640 non-null object\n",
      "dtypes: float64(9), object(1)\n",
      "memory usage: 1.6+ MB\n"
     ]
    }
   ],
   "source": [
    "# Get the dataframe info\n",
    "\n",
    "housing.info()"
   ]
  },
  {
   "cell_type": "markdown",
   "metadata": {},
   "source": [
    "> ``total_bed_rooms`` attribute has only 20,433, meaning it has missing\\NaN values"
   ]
  },
  {
   "cell_type": "markdown",
   "metadata": {},
   "source": [
    "---"
   ]
  },
  {
   "cell_type": "code",
   "execution_count": 101,
   "metadata": {},
   "outputs": [
    {
     "data": {
      "text/plain": [
       "array(['INLAND', '<1H OCEAN', 'NEAR OCEAN', 'NEAR BAY', 'ISLAND'],\n",
       "      dtype=object)"
      ]
     },
     "execution_count": 101,
     "metadata": {},
     "output_type": "execute_result"
    }
   ],
   "source": [
    "housing.ocean_proximity.unique()"
   ]
  },
  {
   "cell_type": "code",
   "execution_count": 100,
   "metadata": {},
   "outputs": [
    {
     "data": {
      "text/plain": [
       "<1H OCEAN     7301\n",
       "INLAND        5275\n",
       "NEAR OCEAN    2113\n",
       "NEAR BAY      1818\n",
       "ISLAND           5\n",
       "Name: ocean_proximity, dtype: int64"
      ]
     },
     "execution_count": 100,
     "metadata": {},
     "output_type": "execute_result"
    }
   ],
   "source": [
    "housing.ocean_proximity.value_counts()"
   ]
  },
  {
   "cell_type": "code",
   "execution_count": 105,
   "metadata": {},
   "outputs": [
    {
     "data": {
      "text/plain": [
       "<matplotlib.axes._subplots.AxesSubplot at 0x7fe7e219bda0>"
      ]
     },
     "execution_count": 105,
     "metadata": {},
     "output_type": "execute_result"
    },
    {
     "data": {
      "image/png": "[encoded data removed]",
      "text/plain": [
       "<Figure size 432x288 with 1 Axes>"
      ]
     },
     "metadata": {
      "needs_background": "light"
     },
     "output_type": "display_data"
    }
   ],
   "source": [
    "housing.ocean_proximity.value_counts().plot(kind='bar')"
   ]
  },
  {
   "cell_type": "markdown",
   "metadata": {},
   "source": [
    "> Show the **``unique``** values for the categorical attribute and **``value_counts``** for its corresponding count per value on the dataset"
   ]
  },
  {
   "cell_type": "markdown",
   "metadata": {},
   "source": [
    "---"
   ]
  },
  {
   "cell_type": "code",
   "execution_count": 10,
   "metadata": {},
   "outputs": [
    {
     "data": {
      "text/html": [
       "<div>\n",
       "<style scoped>\n",
       "    .dataframe tbody tr th:only-of-type {\n",
       "        vertical-align: middle;\n",
       "    }\n",
       "\n",
       "    .dataframe tbody tr th {\n",
       "        vertical-align: top;\n",
       "    }\n",
       "\n",
       "    .dataframe thead th {\n",
       "        text-align: right;\n",
       "    }\n",
       "</style>\n",
       "<table border=\"1\" class=\"dataframe\">\n",
       "  <thead>\n",
       "    <tr style=\"text-align: right;\">\n",
       "      <th></th>\n",
       "      <th>longitude</th>\n",
       "      <th>latitude</th>\n",
       "      <th>housing_median_age</th>\n",
       "      <th>total_rooms</th>\n",
       "      <th>total_bedrooms</th>\n",
       "      <th>population</th>\n",
       "      <th>households</th>\n",
       "      <th>median_income</th>\n",
       "      <th>median_house_value</th>\n",
       "    </tr>\n",
       "  </thead>\n",
       "  <tbody>\n",
       "    <tr>\n",
       "      <th>count</th>\n",
       "      <td>20640.000000</td>\n",
       "      <td>20640.000000</td>\n",
       "      <td>20640.000000</td>\n",
       "      <td>20640.000000</td>\n",
       "      <td>20433.000000</td>\n",
       "      <td>20640.000000</td>\n",
       "      <td>20640.000000</td>\n",
       "      <td>20640.000000</td>\n",
       "      <td>20640.000000</td>\n",
       "    </tr>\n",
       "    <tr>\n",
       "      <th>mean</th>\n",
       "      <td>-119.569704</td>\n",
       "      <td>35.631861</td>\n",
       "      <td>28.639486</td>\n",
       "      <td>2635.763081</td>\n",
       "      <td>537.870553</td>\n",
       "      <td>1425.476744</td>\n",
       "      <td>499.539680</td>\n",
       "      <td>3.870671</td>\n",
       "      <td>206855.816909</td>\n",
       "    </tr>\n",
       "    <tr>\n",
       "      <th>std</th>\n",
       "      <td>2.003532</td>\n",
       "      <td>2.135952</td>\n",
       "      <td>12.585558</td>\n",
       "      <td>2181.615252</td>\n",
       "      <td>421.385070</td>\n",
       "      <td>1132.462122</td>\n",
       "      <td>382.329753</td>\n",
       "      <td>1.899822</td>\n",
       "      <td>115395.615874</td>\n",
       "    </tr>\n",
       "    <tr>\n",
       "      <th>min</th>\n",
       "      <td>-124.350000</td>\n",
       "      <td>32.540000</td>\n",
       "      <td>1.000000</td>\n",
       "      <td>2.000000</td>\n",
       "      <td>1.000000</td>\n",
       "      <td>3.000000</td>\n",
       "      <td>1.000000</td>\n",
       "      <td>0.499900</td>\n",
       "      <td>14999.000000</td>\n",
       "    </tr>\n",
       "    <tr>\n",
       "      <th>25%</th>\n",
       "      <td>-121.800000</td>\n",
       "      <td>33.930000</td>\n",
       "      <td>18.000000</td>\n",
       "      <td>1447.750000</td>\n",
       "      <td>296.000000</td>\n",
       "      <td>787.000000</td>\n",
       "      <td>280.000000</td>\n",
       "      <td>2.563400</td>\n",
       "      <td>119600.000000</td>\n",
       "    </tr>\n",
       "    <tr>\n",
       "      <th>50%</th>\n",
       "      <td>-118.490000</td>\n",
       "      <td>34.260000</td>\n",
       "      <td>29.000000</td>\n",
       "      <td>2127.000000</td>\n",
       "      <td>435.000000</td>\n",
       "      <td>1166.000000</td>\n",
       "      <td>409.000000</td>\n",
       "      <td>3.534800</td>\n",
       "      <td>179700.000000</td>\n",
       "    </tr>\n",
       "    <tr>\n",
       "      <th>75%</th>\n",
       "      <td>-118.010000</td>\n",
       "      <td>37.710000</td>\n",
       "      <td>37.000000</td>\n",
       "      <td>3148.000000</td>\n",
       "      <td>647.000000</td>\n",
       "      <td>1725.000000</td>\n",
       "      <td>605.000000</td>\n",
       "      <td>4.743250</td>\n",
       "      <td>264725.000000</td>\n",
       "    </tr>\n",
       "    <tr>\n",
       "      <th>max</th>\n",
       "      <td>-114.310000</td>\n",
       "      <td>41.950000</td>\n",
       "      <td>52.000000</td>\n",
       "      <td>39320.000000</td>\n",
       "      <td>6445.000000</td>\n",
       "      <td>35682.000000</td>\n",
       "      <td>6082.000000</td>\n",
       "      <td>15.000100</td>\n",
       "      <td>500001.000000</td>\n",
       "    </tr>\n",
       "  </tbody>\n",
       "</table>\n",
       "</div>"
      ],
      "text/plain": [
       "          longitude      latitude  housing_median_age   total_rooms  \\\n",
       "count  20640.000000  20640.000000        20640.000000  20640.000000   \n",
       "mean    -119.569704     35.631861           28.639486   2635.763081   \n",
       "std        2.003532      2.135952           12.585558   2181.615252   \n",
       "min     -124.350000     32.540000            1.000000      2.000000   \n",
       "25%     -121.800000     33.930000           18.000000   1447.750000   \n",
       "50%     -118.490000     34.260000           29.000000   2127.000000   \n",
       "75%     -118.010000     37.710000           37.000000   3148.000000   \n",
       "max     -114.310000     41.950000           52.000000  39320.000000   \n",
       "\n",
       "       total_bedrooms    population    households  median_income  \\\n",
       "count    20433.000000  20640.000000  20640.000000   20640.000000   \n",
       "mean       537.870553   1425.476744    499.539680       3.870671   \n",
       "std        421.385070   1132.462122    382.329753       1.899822   \n",
       "min          1.000000      3.000000      1.000000       0.499900   \n",
       "25%        296.000000    787.000000    280.000000       2.563400   \n",
       "50%        435.000000   1166.000000    409.000000       3.534800   \n",
       "75%        647.000000   1725.000000    605.000000       4.743250   \n",
       "max       6445.000000  35682.000000   6082.000000      15.000100   \n",
       "\n",
       "       median_house_value  \n",
       "count        20640.000000  \n",
       "mean        206855.816909  \n",
       "std         115395.615874  \n",
       "min          14999.000000  \n",
       "25%         119600.000000  \n",
       "50%         179700.000000  \n",
       "75%         264725.000000  \n",
       "max         500001.000000  "
      ]
     },
     "execution_count": 10,
     "metadata": {},
     "output_type": "execute_result"
    }
   ],
   "source": [
    "# Describe\n",
    "\n",
    "housing.describe()"
   ]
  },
  {
   "cell_type": "markdown",
   "metadata": {},
   "source": [
    "> The ** describe()** method shows a statistical summary of the numerical attributes of the data"
   ]
  },
  {
   "cell_type": "code",
   "execution_count": 11,
   "metadata": {},
   "outputs": [
    {
     "data": {
      "text/html": [
       "<div>\n",
       "<style scoped>\n",
       "    .dataframe tbody tr th:only-of-type {\n",
       "        vertical-align: middle;\n",
       "    }\n",
       "\n",
       "    .dataframe tbody tr th {\n",
       "        vertical-align: top;\n",
       "    }\n",
       "\n",
       "    .dataframe thead th {\n",
       "        text-align: right;\n",
       "    }\n",
       "</style>\n",
       "<table border=\"1\" class=\"dataframe\">\n",
       "  <thead>\n",
       "    <tr style=\"text-align: right;\">\n",
       "      <th></th>\n",
       "      <th>longitude</th>\n",
       "      <th>latitude</th>\n",
       "      <th>housing_median_age</th>\n",
       "      <th>total_rooms</th>\n",
       "      <th>total_bedrooms</th>\n",
       "      <th>population</th>\n",
       "      <th>households</th>\n",
       "      <th>median_income</th>\n",
       "      <th>median_house_value</th>\n",
       "    </tr>\n",
       "  </thead>\n",
       "  <tbody>\n",
       "    <tr>\n",
       "      <th>longitude</th>\n",
       "      <td>1.000000</td>\n",
       "      <td>-0.924664</td>\n",
       "      <td>-0.108197</td>\n",
       "      <td>0.044568</td>\n",
       "      <td>0.069608</td>\n",
       "      <td>0.099773</td>\n",
       "      <td>0.055310</td>\n",
       "      <td>-0.015176</td>\n",
       "      <td>-0.045967</td>\n",
       "    </tr>\n",
       "    <tr>\n",
       "      <th>latitude</th>\n",
       "      <td>-0.924664</td>\n",
       "      <td>1.000000</td>\n",
       "      <td>0.011173</td>\n",
       "      <td>-0.036100</td>\n",
       "      <td>-0.066983</td>\n",
       "      <td>-0.108785</td>\n",
       "      <td>-0.071035</td>\n",
       "      <td>-0.079809</td>\n",
       "      <td>-0.144160</td>\n",
       "    </tr>\n",
       "    <tr>\n",
       "      <th>housing_median_age</th>\n",
       "      <td>-0.108197</td>\n",
       "      <td>0.011173</td>\n",
       "      <td>1.000000</td>\n",
       "      <td>-0.361262</td>\n",
       "      <td>-0.320451</td>\n",
       "      <td>-0.296244</td>\n",
       "      <td>-0.302916</td>\n",
       "      <td>-0.119034</td>\n",
       "      <td>0.105623</td>\n",
       "    </tr>\n",
       "    <tr>\n",
       "      <th>total_rooms</th>\n",
       "      <td>0.044568</td>\n",
       "      <td>-0.036100</td>\n",
       "      <td>-0.361262</td>\n",
       "      <td>1.000000</td>\n",
       "      <td>0.930380</td>\n",
       "      <td>0.857126</td>\n",
       "      <td>0.918484</td>\n",
       "      <td>0.198050</td>\n",
       "      <td>0.134153</td>\n",
       "    </tr>\n",
       "    <tr>\n",
       "      <th>total_bedrooms</th>\n",
       "      <td>0.069608</td>\n",
       "      <td>-0.066983</td>\n",
       "      <td>-0.320451</td>\n",
       "      <td>0.930380</td>\n",
       "      <td>1.000000</td>\n",
       "      <td>0.877747</td>\n",
       "      <td>0.979728</td>\n",
       "      <td>-0.007723</td>\n",
       "      <td>0.049686</td>\n",
       "    </tr>\n",
       "    <tr>\n",
       "      <th>population</th>\n",
       "      <td>0.099773</td>\n",
       "      <td>-0.108785</td>\n",
       "      <td>-0.296244</td>\n",
       "      <td>0.857126</td>\n",
       "      <td>0.877747</td>\n",
       "      <td>1.000000</td>\n",
       "      <td>0.907222</td>\n",
       "      <td>0.004834</td>\n",
       "      <td>-0.024650</td>\n",
       "    </tr>\n",
       "    <tr>\n",
       "      <th>households</th>\n",
       "      <td>0.055310</td>\n",
       "      <td>-0.071035</td>\n",
       "      <td>-0.302916</td>\n",
       "      <td>0.918484</td>\n",
       "      <td>0.979728</td>\n",
       "      <td>0.907222</td>\n",
       "      <td>1.000000</td>\n",
       "      <td>0.013033</td>\n",
       "      <td>0.065843</td>\n",
       "    </tr>\n",
       "    <tr>\n",
       "      <th>median_income</th>\n",
       "      <td>-0.015176</td>\n",
       "      <td>-0.079809</td>\n",
       "      <td>-0.119034</td>\n",
       "      <td>0.198050</td>\n",
       "      <td>-0.007723</td>\n",
       "      <td>0.004834</td>\n",
       "      <td>0.013033</td>\n",
       "      <td>1.000000</td>\n",
       "      <td>0.688075</td>\n",
       "    </tr>\n",
       "    <tr>\n",
       "      <th>median_house_value</th>\n",
       "      <td>-0.045967</td>\n",
       "      <td>-0.144160</td>\n",
       "      <td>0.105623</td>\n",
       "      <td>0.134153</td>\n",
       "      <td>0.049686</td>\n",
       "      <td>-0.024650</td>\n",
       "      <td>0.065843</td>\n",
       "      <td>0.688075</td>\n",
       "      <td>1.000000</td>\n",
       "    </tr>\n",
       "  </tbody>\n",
       "</table>\n",
       "</div>"
      ],
      "text/plain": [
       "                    longitude  latitude  housing_median_age  total_rooms  \\\n",
       "longitude            1.000000 -0.924664           -0.108197     0.044568   \n",
       "latitude            -0.924664  1.000000            0.011173    -0.036100   \n",
       "housing_median_age  -0.108197  0.011173            1.000000    -0.361262   \n",
       "total_rooms          0.044568 -0.036100           -0.361262     1.000000   \n",
       "total_bedrooms       0.069608 -0.066983           -0.320451     0.930380   \n",
       "population           0.099773 -0.108785           -0.296244     0.857126   \n",
       "households           0.055310 -0.071035           -0.302916     0.918484   \n",
       "median_income       -0.015176 -0.079809           -0.119034     0.198050   \n",
       "median_house_value  -0.045967 -0.144160            0.105623     0.134153   \n",
       "\n",
       "                    total_bedrooms  population  households  median_income  \\\n",
       "longitude                 0.069608    0.099773    0.055310      -0.015176   \n",
       "latitude                 -0.066983   -0.108785   -0.071035      -0.079809   \n",
       "housing_median_age       -0.320451   -0.296244   -0.302916      -0.119034   \n",
       "total_rooms               0.930380    0.857126    0.918484       0.198050   \n",
       "total_bedrooms            1.000000    0.877747    0.979728      -0.007723   \n",
       "population                0.877747    1.000000    0.907222       0.004834   \n",
       "households                0.979728    0.907222    1.000000       0.013033   \n",
       "median_income            -0.007723    0.004834    0.013033       1.000000   \n",
       "median_house_value        0.049686   -0.024650    0.065843       0.688075   \n",
       "\n",
       "                    median_house_value  \n",
       "longitude                    -0.045967  \n",
       "latitude                     -0.144160  \n",
       "housing_median_age            0.105623  \n",
       "total_rooms                   0.134153  \n",
       "total_bedrooms                0.049686  \n",
       "population                   -0.024650  \n",
       "households                    0.065843  \n",
       "median_income                 0.688075  \n",
       "median_house_value            1.000000  "
      ]
     },
     "execution_count": 11,
     "metadata": {},
     "output_type": "execute_result"
    }
   ],
   "source": [
    "# Correlation\n",
    "\n",
    "housing.corr()"
   ]
  },
  {
   "cell_type": "code",
   "execution_count": 12,
   "metadata": {},
   "outputs": [
    {
     "data": {
      "text/plain": [
       "array([[<matplotlib.axes._subplots.AxesSubplot object at 0x7fe7ec2cdd30>,\n",
       "        <matplotlib.axes._subplots.AxesSubplot object at 0x7fe7ec297fd0>,\n",
       "        <matplotlib.axes._subplots.AxesSubplot object at 0x7fe7ec2482e8>],\n",
       "       [<matplotlib.axes._subplots.AxesSubplot object at 0x7fe7ec2705f8>,\n",
       "        <matplotlib.axes._subplots.AxesSubplot object at 0x7fe7ec21c908>,\n",
       "        <matplotlib.axes._subplots.AxesSubplot object at 0x7fe7ec21c940>],\n",
       "       [<matplotlib.axes._subplots.AxesSubplot object at 0x7fe7ec1eff28>,\n",
       "        <matplotlib.axes._subplots.AxesSubplot object at 0x7fe7e9fcd278>,\n",
       "        <matplotlib.axes._subplots.AxesSubplot object at 0x7fe7e9f75588>]],\n",
       "      dtype=object)"
      ]
     },
     "execution_count": 12,
     "metadata": {},
     "output_type": "execute_result"
    },
    {
     "data": {
      "image/png": "[encoded data removed]",
      "text/plain": [
       "<Figure size 1080x720 with 9 Axes>"
      ]
     },
     "metadata": {
      "needs_background": "light"
     },
     "output_type": "display_data"
    }
   ],
   "source": [
    "housing.hist(figsize=(15,10), bins=30)"
   ]
  },
  {
   "cell_type": "markdown",
   "metadata": {},
   "source": [
    "#### Dividing the data into training and test sets"
   ]
  },
  {
   "cell_type": "code",
   "execution_count": 13,
   "metadata": {},
   "outputs": [],
   "source": [
    "from sklearn.model_selection import train_test_split"
   ]
  },
  {
   "cell_type": "code",
   "execution_count": 14,
   "metadata": {},
   "outputs": [],
   "source": [
    "train_set, test_set = train_test_split(housing, test_size=0.2)"
   ]
  },
  {
   "cell_type": "code",
   "execution_count": 15,
   "metadata": {},
   "outputs": [
    {
     "data": {
      "text/html": [
       "<div>\n",
       "<style scoped>\n",
       "    .dataframe tbody tr th:only-of-type {\n",
       "        vertical-align: middle;\n",
       "    }\n",
       "\n",
       "    .dataframe tbody tr th {\n",
       "        vertical-align: top;\n",
       "    }\n",
       "\n",
       "    .dataframe thead th {\n",
       "        text-align: right;\n",
       "    }\n",
       "</style>\n",
       "<table border=\"1\" class=\"dataframe\">\n",
       "  <thead>\n",
       "    <tr style=\"text-align: right;\">\n",
       "      <th></th>\n",
       "      <th>longitude</th>\n",
       "      <th>latitude</th>\n",
       "      <th>housing_median_age</th>\n",
       "      <th>total_rooms</th>\n",
       "      <th>total_bedrooms</th>\n",
       "      <th>population</th>\n",
       "      <th>households</th>\n",
       "      <th>median_income</th>\n",
       "      <th>median_house_value</th>\n",
       "      <th>ocean_proximity</th>\n",
       "    </tr>\n",
       "  </thead>\n",
       "  <tbody>\n",
       "    <tr>\n",
       "      <th>20461</th>\n",
       "      <td>-118.75</td>\n",
       "      <td>34.28</td>\n",
       "      <td>22.0</td>\n",
       "      <td>3844.0</td>\n",
       "      <td>537.0</td>\n",
       "      <td>1665.0</td>\n",
       "      <td>492.0</td>\n",
       "      <td>6.2059</td>\n",
       "      <td>239900.0</td>\n",
       "      <td>&lt;1H OCEAN</td>\n",
       "    </tr>\n",
       "    <tr>\n",
       "      <th>9265</th>\n",
       "      <td>-119.81</td>\n",
       "      <td>36.92</td>\n",
       "      <td>14.0</td>\n",
       "      <td>4795.0</td>\n",
       "      <td>710.0</td>\n",
       "      <td>2047.0</td>\n",
       "      <td>640.0</td>\n",
       "      <td>4.6650</td>\n",
       "      <td>121300.0</td>\n",
       "      <td>INLAND</td>\n",
       "    </tr>\n",
       "    <tr>\n",
       "      <th>2766</th>\n",
       "      <td>-116.01</td>\n",
       "      <td>33.41</td>\n",
       "      <td>20.0</td>\n",
       "      <td>1996.0</td>\n",
       "      <td>515.0</td>\n",
       "      <td>659.0</td>\n",
       "      <td>295.0</td>\n",
       "      <td>2.8684</td>\n",
       "      <td>62800.0</td>\n",
       "      <td>INLAND</td>\n",
       "    </tr>\n",
       "    <tr>\n",
       "      <th>18479</th>\n",
       "      <td>-121.67</td>\n",
       "      <td>37.13</td>\n",
       "      <td>19.0</td>\n",
       "      <td>3269.0</td>\n",
       "      <td>483.0</td>\n",
       "      <td>1383.0</td>\n",
       "      <td>452.0</td>\n",
       "      <td>5.6205</td>\n",
       "      <td>300800.0</td>\n",
       "      <td>&lt;1H OCEAN</td>\n",
       "    </tr>\n",
       "    <tr>\n",
       "      <th>6798</th>\n",
       "      <td>-118.14</td>\n",
       "      <td>34.07</td>\n",
       "      <td>52.0</td>\n",
       "      <td>695.0</td>\n",
       "      <td>145.0</td>\n",
       "      <td>523.0</td>\n",
       "      <td>170.0</td>\n",
       "      <td>3.6650</td>\n",
       "      <td>220400.0</td>\n",
       "      <td>&lt;1H OCEAN</td>\n",
       "    </tr>\n",
       "  </tbody>\n",
       "</table>\n",
       "</div>"
      ],
      "text/plain": [
       "       longitude  latitude  housing_median_age  total_rooms  total_bedrooms  \\\n",
       "20461    -118.75     34.28                22.0       3844.0           537.0   \n",
       "9265     -119.81     36.92                14.0       4795.0           710.0   \n",
       "2766     -116.01     33.41                20.0       1996.0           515.0   \n",
       "18479    -121.67     37.13                19.0       3269.0           483.0   \n",
       "6798     -118.14     34.07                52.0        695.0           145.0   \n",
       "\n",
       "       population  households  median_income  median_house_value  \\\n",
       "20461      1665.0       492.0         6.2059            239900.0   \n",
       "9265       2047.0       640.0         4.6650            121300.0   \n",
       "2766        659.0       295.0         2.8684             62800.0   \n",
       "18479      1383.0       452.0         5.6205            300800.0   \n",
       "6798        523.0       170.0         3.6650            220400.0   \n",
       "\n",
       "      ocean_proximity  \n",
       "20461       <1H OCEAN  \n",
       "9265           INLAND  \n",
       "2766           INLAND  \n",
       "18479       <1H OCEAN  \n",
       "6798        <1H OCEAN  "
      ]
     },
     "execution_count": 15,
     "metadata": {},
     "output_type": "execute_result"
    }
   ],
   "source": [
    "train_set.head()"
   ]
  },
  {
   "cell_type": "code",
   "execution_count": 16,
   "metadata": {},
   "outputs": [
    {
     "data": {
      "text/plain": [
       "165120"
      ]
     },
     "execution_count": 16,
     "metadata": {},
     "output_type": "execute_result"
    }
   ],
   "source": [
    "train_set.size"
   ]
  },
  {
   "cell_type": "code",
   "execution_count": 17,
   "metadata": {},
   "outputs": [
    {
     "data": {
      "text/html": [
       "<div>\n",
       "<style scoped>\n",
       "    .dataframe tbody tr th:only-of-type {\n",
       "        vertical-align: middle;\n",
       "    }\n",
       "\n",
       "    .dataframe tbody tr th {\n",
       "        vertical-align: top;\n",
       "    }\n",
       "\n",
       "    .dataframe thead th {\n",
       "        text-align: right;\n",
       "    }\n",
       "</style>\n",
       "<table border=\"1\" class=\"dataframe\">\n",
       "  <thead>\n",
       "    <tr style=\"text-align: right;\">\n",
       "      <th></th>\n",
       "      <th>longitude</th>\n",
       "      <th>latitude</th>\n",
       "      <th>housing_median_age</th>\n",
       "      <th>total_rooms</th>\n",
       "      <th>total_bedrooms</th>\n",
       "      <th>population</th>\n",
       "      <th>households</th>\n",
       "      <th>median_income</th>\n",
       "      <th>median_house_value</th>\n",
       "      <th>ocean_proximity</th>\n",
       "    </tr>\n",
       "  </thead>\n",
       "  <tbody>\n",
       "    <tr>\n",
       "      <th>3743</th>\n",
       "      <td>-118.40</td>\n",
       "      <td>34.16</td>\n",
       "      <td>45.0</td>\n",
       "      <td>1176.0</td>\n",
       "      <td>250.0</td>\n",
       "      <td>471.0</td>\n",
       "      <td>228.0</td>\n",
       "      <td>2.3333</td>\n",
       "      <td>364700.0</td>\n",
       "      <td>&lt;1H OCEAN</td>\n",
       "    </tr>\n",
       "    <tr>\n",
       "      <th>17212</th>\n",
       "      <td>-119.71</td>\n",
       "      <td>34.43</td>\n",
       "      <td>47.0</td>\n",
       "      <td>1572.0</td>\n",
       "      <td>417.0</td>\n",
       "      <td>790.0</td>\n",
       "      <td>384.0</td>\n",
       "      <td>2.6429</td>\n",
       "      <td>279200.0</td>\n",
       "      <td>&lt;1H OCEAN</td>\n",
       "    </tr>\n",
       "    <tr>\n",
       "      <th>14444</th>\n",
       "      <td>-117.26</td>\n",
       "      <td>32.81</td>\n",
       "      <td>25.0</td>\n",
       "      <td>2076.0</td>\n",
       "      <td>586.0</td>\n",
       "      <td>1060.0</td>\n",
       "      <td>554.0</td>\n",
       "      <td>2.8421</td>\n",
       "      <td>227800.0</td>\n",
       "      <td>NEAR OCEAN</td>\n",
       "    </tr>\n",
       "    <tr>\n",
       "      <th>15367</th>\n",
       "      <td>-117.20</td>\n",
       "      <td>33.29</td>\n",
       "      <td>12.0</td>\n",
       "      <td>6358.0</td>\n",
       "      <td>1182.0</td>\n",
       "      <td>2778.0</td>\n",
       "      <td>1020.0</td>\n",
       "      <td>4.0357</td>\n",
       "      <td>295900.0</td>\n",
       "      <td>&lt;1H OCEAN</td>\n",
       "    </tr>\n",
       "    <tr>\n",
       "      <th>10901</th>\n",
       "      <td>-117.83</td>\n",
       "      <td>33.74</td>\n",
       "      <td>23.0</td>\n",
       "      <td>1818.0</td>\n",
       "      <td>522.0</td>\n",
       "      <td>958.0</td>\n",
       "      <td>485.0</td>\n",
       "      <td>2.6771</td>\n",
       "      <td>131500.0</td>\n",
       "      <td>&lt;1H OCEAN</td>\n",
       "    </tr>\n",
       "  </tbody>\n",
       "</table>\n",
       "</div>"
      ],
      "text/plain": [
       "       longitude  latitude  housing_median_age  total_rooms  total_bedrooms  \\\n",
       "3743     -118.40     34.16                45.0       1176.0           250.0   \n",
       "17212    -119.71     34.43                47.0       1572.0           417.0   \n",
       "14444    -117.26     32.81                25.0       2076.0           586.0   \n",
       "15367    -117.20     33.29                12.0       6358.0          1182.0   \n",
       "10901    -117.83     33.74                23.0       1818.0           522.0   \n",
       "\n",
       "       population  households  median_income  median_house_value  \\\n",
       "3743        471.0       228.0         2.3333            364700.0   \n",
       "17212       790.0       384.0         2.6429            279200.0   \n",
       "14444      1060.0       554.0         2.8421            227800.0   \n",
       "15367      2778.0      1020.0         4.0357            295900.0   \n",
       "10901       958.0       485.0         2.6771            131500.0   \n",
       "\n",
       "      ocean_proximity  \n",
       "3743        <1H OCEAN  \n",
       "17212       <1H OCEAN  \n",
       "14444      NEAR OCEAN  \n",
       "15367       <1H OCEAN  \n",
       "10901       <1H OCEAN  "
      ]
     },
     "execution_count": 17,
     "metadata": {},
     "output_type": "execute_result"
    }
   ],
   "source": [
    "test_set.head()"
   ]
  },
  {
   "cell_type": "code",
   "execution_count": 18,
   "metadata": {},
   "outputs": [
    {
     "data": {
      "text/plain": [
       "41280"
      ]
     },
     "execution_count": 18,
     "metadata": {},
     "output_type": "execute_result"
    }
   ],
   "source": [
    "test_set.size"
   ]
  },
  {
   "cell_type": "markdown",
   "metadata": {},
   "source": [
    "#### Check the data features"
   ]
  },
  {
   "cell_type": "code",
   "execution_count": 19,
   "metadata": {},
   "outputs": [
    {
     "data": {
      "text/plain": [
       "<matplotlib.axes._subplots.AxesSubplot at 0x7fe7e9a01cf8>"
      ]
     },
     "execution_count": 19,
     "metadata": {},
     "output_type": "execute_result"
    },
    {
     "data": {
      "image/png": "[encoded data removed]",
      "text/plain": [
       "<Figure size 432x288 with 1 Axes>"
      ]
     },
     "metadata": {
      "needs_background": "light"
     },
     "output_type": "display_data"
    }
   ],
   "source": [
    "housing['median_income'].hist()"
   ]
  },
  {
   "cell_type": "code",
   "execution_count": 20,
   "metadata": {},
   "outputs": [],
   "source": [
    "housing['income_cat'] = np.ceil(housing['median_income']/1.5)"
   ]
  },
  {
   "cell_type": "code",
   "execution_count": 21,
   "metadata": {},
   "outputs": [
    {
     "data": {
      "text/html": [
       "<div>\n",
       "<style scoped>\n",
       "    .dataframe tbody tr th:only-of-type {\n",
       "        vertical-align: middle;\n",
       "    }\n",
       "\n",
       "    .dataframe tbody tr th {\n",
       "        vertical-align: top;\n",
       "    }\n",
       "\n",
       "    .dataframe thead th {\n",
       "        text-align: right;\n",
       "    }\n",
       "</style>\n",
       "<table border=\"1\" class=\"dataframe\">\n",
       "  <thead>\n",
       "    <tr style=\"text-align: right;\">\n",
       "      <th></th>\n",
       "      <th>longitude</th>\n",
       "      <th>latitude</th>\n",
       "      <th>housing_median_age</th>\n",
       "      <th>total_rooms</th>\n",
       "      <th>total_bedrooms</th>\n",
       "      <th>population</th>\n",
       "      <th>households</th>\n",
       "      <th>median_income</th>\n",
       "      <th>median_house_value</th>\n",
       "      <th>ocean_proximity</th>\n",
       "      <th>income_cat</th>\n",
       "    </tr>\n",
       "  </thead>\n",
       "  <tbody>\n",
       "    <tr>\n",
       "      <th>0</th>\n",
       "      <td>-122.23</td>\n",
       "      <td>37.88</td>\n",
       "      <td>41.0</td>\n",
       "      <td>880.0</td>\n",
       "      <td>129.0</td>\n",
       "      <td>322.0</td>\n",
       "      <td>126.0</td>\n",
       "      <td>8.3252</td>\n",
       "      <td>452600.0</td>\n",
       "      <td>NEAR BAY</td>\n",
       "      <td>6.0</td>\n",
       "    </tr>\n",
       "    <tr>\n",
       "      <th>1</th>\n",
       "      <td>-122.22</td>\n",
       "      <td>37.86</td>\n",
       "      <td>21.0</td>\n",
       "      <td>7099.0</td>\n",
       "      <td>1106.0</td>\n",
       "      <td>2401.0</td>\n",
       "      <td>1138.0</td>\n",
       "      <td>8.3014</td>\n",
       "      <td>358500.0</td>\n",
       "      <td>NEAR BAY</td>\n",
       "      <td>6.0</td>\n",
       "    </tr>\n",
       "    <tr>\n",
       "      <th>2</th>\n",
       "      <td>-122.24</td>\n",
       "      <td>37.85</td>\n",
       "      <td>52.0</td>\n",
       "      <td>1467.0</td>\n",
       "      <td>190.0</td>\n",
       "      <td>496.0</td>\n",
       "      <td>177.0</td>\n",
       "      <td>7.2574</td>\n",
       "      <td>352100.0</td>\n",
       "      <td>NEAR BAY</td>\n",
       "      <td>5.0</td>\n",
       "    </tr>\n",
       "    <tr>\n",
       "      <th>3</th>\n",
       "      <td>-122.25</td>\n",
       "      <td>37.85</td>\n",
       "      <td>52.0</td>\n",
       "      <td>1274.0</td>\n",
       "      <td>235.0</td>\n",
       "      <td>558.0</td>\n",
       "      <td>219.0</td>\n",
       "      <td>5.6431</td>\n",
       "      <td>341300.0</td>\n",
       "      <td>NEAR BAY</td>\n",
       "      <td>4.0</td>\n",
       "    </tr>\n",
       "    <tr>\n",
       "      <th>4</th>\n",
       "      <td>-122.25</td>\n",
       "      <td>37.85</td>\n",
       "      <td>52.0</td>\n",
       "      <td>1627.0</td>\n",
       "      <td>280.0</td>\n",
       "      <td>565.0</td>\n",
       "      <td>259.0</td>\n",
       "      <td>3.8462</td>\n",
       "      <td>342200.0</td>\n",
       "      <td>NEAR BAY</td>\n",
       "      <td>3.0</td>\n",
       "    </tr>\n",
       "  </tbody>\n",
       "</table>\n",
       "</div>"
      ],
      "text/plain": [
       "   longitude  latitude  housing_median_age  total_rooms  total_bedrooms  \\\n",
       "0    -122.23     37.88                41.0        880.0           129.0   \n",
       "1    -122.22     37.86                21.0       7099.0          1106.0   \n",
       "2    -122.24     37.85                52.0       1467.0           190.0   \n",
       "3    -122.25     37.85                52.0       1274.0           235.0   \n",
       "4    -122.25     37.85                52.0       1627.0           280.0   \n",
       "\n",
       "   population  households  median_income  median_house_value ocean_proximity  \\\n",
       "0       322.0       126.0         8.3252            452600.0        NEAR BAY   \n",
       "1      2401.0      1138.0         8.3014            358500.0        NEAR BAY   \n",
       "2       496.0       177.0         7.2574            352100.0        NEAR BAY   \n",
       "3       558.0       219.0         5.6431            341300.0        NEAR BAY   \n",
       "4       565.0       259.0         3.8462            342200.0        NEAR BAY   \n",
       "\n",
       "   income_cat  \n",
       "0         6.0  \n",
       "1         6.0  \n",
       "2         5.0  \n",
       "3         4.0  \n",
       "4         3.0  "
      ]
     },
     "execution_count": 21,
     "metadata": {},
     "output_type": "execute_result"
    }
   ],
   "source": [
    "housing.head()"
   ]
  },
  {
   "cell_type": "code",
   "execution_count": 22,
   "metadata": {},
   "outputs": [
    {
     "data": {
      "text/plain": [
       "<matplotlib.axes._subplots.AxesSubplot at 0x7fe7e99e6048>"
      ]
     },
     "execution_count": 22,
     "metadata": {},
     "output_type": "execute_result"
    },
    {
     "data": {
      "image/png": "[encoded data removed]",
      "text/plain": [
       "<Figure size 432x288 with 1 Axes>"
      ]
     },
     "metadata": {
      "needs_background": "light"
     },
     "output_type": "display_data"
    }
   ],
   "source": [
    "housing['income_cat'].hist()"
   ]
  },
  {
   "cell_type": "code",
   "execution_count": 23,
   "metadata": {},
   "outputs": [
    {
     "data": {
      "text/plain": [
       "3.0     7236\n",
       "2.0     6581\n",
       "4.0     3639\n",
       "5.0     1423\n",
       "1.0      822\n",
       "6.0      532\n",
       "7.0      189\n",
       "8.0      105\n",
       "9.0       50\n",
       "11.0      49\n",
       "10.0      14\n",
       "Name: income_cat, dtype: int64"
      ]
     },
     "execution_count": 23,
     "metadata": {},
     "output_type": "execute_result"
    }
   ],
   "source": [
    "housing.income_cat.value_counts()"
   ]
  },
  {
   "cell_type": "code",
   "execution_count": 24,
   "metadata": {},
   "outputs": [],
   "source": [
    "# Minimize our category to 5, so all income_cat with less than 5 will be aggregated into 5 category\n",
    "# housing.income_cat.where(housing.income_cat<5, 5.0, inplace=True)\n",
    "\n",
    "housing['income_cat'].where(housing['income_cat']<5, 5.0, inplace=True)"
   ]
  },
  {
   "cell_type": "code",
   "execution_count": 25,
   "metadata": {},
   "outputs": [
    {
     "data": {
      "text/plain": [
       "<matplotlib.axes._subplots.AxesSubplot at 0x7fe7e916dd68>"
      ]
     },
     "execution_count": 25,
     "metadata": {},
     "output_type": "execute_result"
    },
    {
     "data": {
      "image/png": "[encoded data removed]",
      "text/plain": [
       "<Figure size 432x288 with 1 Axes>"
      ]
     },
     "metadata": {
      "needs_background": "light"
     },
     "output_type": "display_data"
    }
   ],
   "source": [
    "housing.income_cat.hist()"
   ]
  },
  {
   "cell_type": "markdown",
   "metadata": {},
   "source": [
    "#### Stratified-Shuffled split of Data into Train/Test Split"
   ]
  },
  {
   "cell_type": "code",
   "execution_count": 26,
   "metadata": {},
   "outputs": [],
   "source": [
    "from sklearn.model_selection import StratifiedShuffleSplit"
   ]
  },
  {
   "cell_type": "code",
   "execution_count": 27,
   "metadata": {},
   "outputs": [],
   "source": [
    "split = StratifiedShuffleSplit(n_splits=1, test_size=0.2)"
   ]
  },
  {
   "cell_type": "code",
   "execution_count": 28,
   "metadata": {},
   "outputs": [],
   "source": [
    "for train_index, test_index in split.split(housing, housing['income_cat']):\n",
    "    s_train_set = housing.loc[train_index]\n",
    "    s_test_set = housing.loc[test_index]"
   ]
  },
  {
   "cell_type": "code",
   "execution_count": 29,
   "metadata": {},
   "outputs": [
    {
     "data": {
      "text/plain": [
       "<matplotlib.axes._subplots.AxesSubplot at 0x7fe7e90bb710>"
      ]
     },
     "execution_count": 29,
     "metadata": {},
     "output_type": "execute_result"
    },
    {
     "data": {
      "image/png": "[encoded data removed]",
      "text/plain": [
       "<Figure size 432x288 with 1 Axes>"
      ]
     },
     "metadata": {
      "needs_background": "light"
     },
     "output_type": "display_data"
    }
   ],
   "source": [
    "s_train_set['income_cat'].hist()"
   ]
  },
  {
   "cell_type": "code",
   "execution_count": 30,
   "metadata": {},
   "outputs": [],
   "source": [
    "housing = s_train_set.copy()"
   ]
  },
  {
   "cell_type": "code",
   "execution_count": 31,
   "metadata": {},
   "outputs": [
    {
     "data": {
      "text/plain": [
       "<matplotlib.axes._subplots.AxesSubplot at 0x7fe7ec0e9da0>"
      ]
     },
     "execution_count": 31,
     "metadata": {},
     "output_type": "execute_result"
    },
    {
     "data": {
      "image/png": "[encoded data removed]",
      "text/plain": [
       "<Figure size 432x288 with 1 Axes>"
      ]
     },
     "metadata": {
      "needs_background": "light"
     },
     "output_type": "display_data"
    }
   ],
   "source": [
    "# use alpha parameter to see concentration\n",
    "\n",
    "housing.plot(kind='scatter', x='longitude', y='latitude', alpha=0.1)"
   ]
  },
  {
   "cell_type": "code",
   "execution_count": 32,
   "metadata": {},
   "outputs": [
    {
     "data": {
      "text/plain": [
       "<matplotlib.axes._subplots.AxesSubplot at 0x7fe7ec0bfe80>"
      ]
     },
     "execution_count": 32,
     "metadata": {},
     "output_type": "execute_result"
    },
    {
     "data": {
      "image/png": "[encoded data removed]",
      "text/plain": [
       "<Figure size 1080x720 with 2 Axes>"
      ]
     },
     "metadata": {
      "needs_background": "light"
     },
     "output_type": "display_data"
    }
   ],
   "source": [
    "housing.plot(kind='scatter', x='longitude', y='latitude', alpha=0.3, \n",
    "             s=housing['population']/100, c='median_house_value',\n",
    "            figsize=(15,10), cmap=plt.get_cmap('coolwarm'),\n",
    "            colorbar=True)"
   ]
  },
  {
   "cell_type": "code",
   "execution_count": 33,
   "metadata": {},
   "outputs": [
    {
     "data": {
      "text/html": [
       "<div>\n",
       "<style scoped>\n",
       "    .dataframe tbody tr th:only-of-type {\n",
       "        vertical-align: middle;\n",
       "    }\n",
       "\n",
       "    .dataframe tbody tr th {\n",
       "        vertical-align: top;\n",
       "    }\n",
       "\n",
       "    .dataframe thead th {\n",
       "        text-align: right;\n",
       "    }\n",
       "</style>\n",
       "<table border=\"1\" class=\"dataframe\">\n",
       "  <thead>\n",
       "    <tr style=\"text-align: right;\">\n",
       "      <th></th>\n",
       "      <th>longitude</th>\n",
       "      <th>latitude</th>\n",
       "      <th>housing_median_age</th>\n",
       "      <th>total_rooms</th>\n",
       "      <th>total_bedrooms</th>\n",
       "      <th>population</th>\n",
       "      <th>households</th>\n",
       "      <th>median_income</th>\n",
       "      <th>median_house_value</th>\n",
       "      <th>income_cat</th>\n",
       "    </tr>\n",
       "  </thead>\n",
       "  <tbody>\n",
       "    <tr>\n",
       "      <th>longitude</th>\n",
       "      <td>1.000000</td>\n",
       "      <td>-0.923543</td>\n",
       "      <td>-0.110508</td>\n",
       "      <td>0.046282</td>\n",
       "      <td>0.071090</td>\n",
       "      <td>0.104641</td>\n",
       "      <td>0.058360</td>\n",
       "      <td>-0.011242</td>\n",
       "      <td>-0.041422</td>\n",
       "      <td>-0.007112</td>\n",
       "    </tr>\n",
       "    <tr>\n",
       "      <th>latitude</th>\n",
       "      <td>-0.923543</td>\n",
       "      <td>1.000000</td>\n",
       "      <td>0.012798</td>\n",
       "      <td>-0.036668</td>\n",
       "      <td>-0.067807</td>\n",
       "      <td>-0.112606</td>\n",
       "      <td>-0.073253</td>\n",
       "      <td>-0.083813</td>\n",
       "      <td>-0.149478</td>\n",
       "      <td>-0.089535</td>\n",
       "    </tr>\n",
       "    <tr>\n",
       "      <th>housing_median_age</th>\n",
       "      <td>-0.110508</td>\n",
       "      <td>0.012798</td>\n",
       "      <td>1.000000</td>\n",
       "      <td>-0.359498</td>\n",
       "      <td>-0.315620</td>\n",
       "      <td>-0.298470</td>\n",
       "      <td>-0.298707</td>\n",
       "      <td>-0.123404</td>\n",
       "      <td>0.101565</td>\n",
       "      <td>-0.152924</td>\n",
       "    </tr>\n",
       "    <tr>\n",
       "      <th>total_rooms</th>\n",
       "      <td>0.046282</td>\n",
       "      <td>-0.036668</td>\n",
       "      <td>-0.359498</td>\n",
       "      <td>1.000000</td>\n",
       "      <td>0.929071</td>\n",
       "      <td>0.864008</td>\n",
       "      <td>0.917321</td>\n",
       "      <td>0.196406</td>\n",
       "      <td>0.134256</td>\n",
       "      <td>0.220188</td>\n",
       "    </tr>\n",
       "    <tr>\n",
       "      <th>total_bedrooms</th>\n",
       "      <td>0.071090</td>\n",
       "      <td>-0.067807</td>\n",
       "      <td>-0.315620</td>\n",
       "      <td>0.929071</td>\n",
       "      <td>1.000000</td>\n",
       "      <td>0.885198</td>\n",
       "      <td>0.979986</td>\n",
       "      <td>-0.010309</td>\n",
       "      <td>0.049873</td>\n",
       "      <td>0.013501</td>\n",
       "    </tr>\n",
       "    <tr>\n",
       "      <th>population</th>\n",
       "      <td>0.104641</td>\n",
       "      <td>-0.112606</td>\n",
       "      <td>-0.298470</td>\n",
       "      <td>0.864008</td>\n",
       "      <td>0.885198</td>\n",
       "      <td>1.000000</td>\n",
       "      <td>0.913655</td>\n",
       "      <td>0.004798</td>\n",
       "      <td>-0.025230</td>\n",
       "      <td>0.026940</td>\n",
       "    </tr>\n",
       "    <tr>\n",
       "      <th>households</th>\n",
       "      <td>0.058360</td>\n",
       "      <td>-0.073253</td>\n",
       "      <td>-0.298707</td>\n",
       "      <td>0.917321</td>\n",
       "      <td>0.979986</td>\n",
       "      <td>0.913655</td>\n",
       "      <td>1.000000</td>\n",
       "      <td>0.010377</td>\n",
       "      <td>0.065376</td>\n",
       "      <td>0.036150</td>\n",
       "    </tr>\n",
       "    <tr>\n",
       "      <th>median_income</th>\n",
       "      <td>-0.011242</td>\n",
       "      <td>-0.083813</td>\n",
       "      <td>-0.123404</td>\n",
       "      <td>0.196406</td>\n",
       "      <td>-0.010309</td>\n",
       "      <td>0.004798</td>\n",
       "      <td>0.010377</td>\n",
       "      <td>1.000000</td>\n",
       "      <td>0.686344</td>\n",
       "      <td>0.901142</td>\n",
       "    </tr>\n",
       "    <tr>\n",
       "      <th>median_house_value</th>\n",
       "      <td>-0.041422</td>\n",
       "      <td>-0.149478</td>\n",
       "      <td>0.101565</td>\n",
       "      <td>0.134256</td>\n",
       "      <td>0.049873</td>\n",
       "      <td>-0.025230</td>\n",
       "      <td>0.065376</td>\n",
       "      <td>0.686344</td>\n",
       "      <td>1.000000</td>\n",
       "      <td>0.642580</td>\n",
       "    </tr>\n",
       "    <tr>\n",
       "      <th>income_cat</th>\n",
       "      <td>-0.007112</td>\n",
       "      <td>-0.089535</td>\n",
       "      <td>-0.152924</td>\n",
       "      <td>0.220188</td>\n",
       "      <td>0.013501</td>\n",
       "      <td>0.026940</td>\n",
       "      <td>0.036150</td>\n",
       "      <td>0.901142</td>\n",
       "      <td>0.642580</td>\n",
       "      <td>1.000000</td>\n",
       "    </tr>\n",
       "  </tbody>\n",
       "</table>\n",
       "</div>"
      ],
      "text/plain": [
       "                    longitude  latitude  housing_median_age  total_rooms  \\\n",
       "longitude            1.000000 -0.923543           -0.110508     0.046282   \n",
       "latitude            -0.923543  1.000000            0.012798    -0.036668   \n",
       "housing_median_age  -0.110508  0.012798            1.000000    -0.359498   \n",
       "total_rooms          0.046282 -0.036668           -0.359498     1.000000   \n",
       "total_bedrooms       0.071090 -0.067807           -0.315620     0.929071   \n",
       "population           0.104641 -0.112606           -0.298470     0.864008   \n",
       "households           0.058360 -0.073253           -0.298707     0.917321   \n",
       "median_income       -0.011242 -0.083813           -0.123404     0.196406   \n",
       "median_house_value  -0.041422 -0.149478            0.101565     0.134256   \n",
       "income_cat          -0.007112 -0.089535           -0.152924     0.220188   \n",
       "\n",
       "                    total_bedrooms  population  households  median_income  \\\n",
       "longitude                 0.071090    0.104641    0.058360      -0.011242   \n",
       "latitude                 -0.067807   -0.112606   -0.073253      -0.083813   \n",
       "housing_median_age       -0.315620   -0.298470   -0.298707      -0.123404   \n",
       "total_rooms               0.929071    0.864008    0.917321       0.196406   \n",
       "total_bedrooms            1.000000    0.885198    0.979986      -0.010309   \n",
       "population                0.885198    1.000000    0.913655       0.004798   \n",
       "households                0.979986    0.913655    1.000000       0.010377   \n",
       "median_income            -0.010309    0.004798    0.010377       1.000000   \n",
       "median_house_value        0.049873   -0.025230    0.065376       0.686344   \n",
       "income_cat                0.013501    0.026940    0.036150       0.901142   \n",
       "\n",
       "                    median_house_value  income_cat  \n",
       "longitude                    -0.041422   -0.007112  \n",
       "latitude                     -0.149478   -0.089535  \n",
       "housing_median_age            0.101565   -0.152924  \n",
       "total_rooms                   0.134256    0.220188  \n",
       "total_bedrooms                0.049873    0.013501  \n",
       "population                   -0.025230    0.026940  \n",
       "households                    0.065376    0.036150  \n",
       "median_income                 0.686344    0.901142  \n",
       "median_house_value            1.000000    0.642580  \n",
       "income_cat                    0.642580    1.000000  "
      ]
     },
     "execution_count": 33,
     "metadata": {},
     "output_type": "execute_result"
    }
   ],
   "source": [
    "housing.corr()"
   ]
  },
  {
   "cell_type": "code",
   "execution_count": 34,
   "metadata": {},
   "outputs": [
    {
     "data": {
      "text/plain": [
       "array([[<matplotlib.axes._subplots.AxesSubplot object at 0x7fe7e90221d0>,\n",
       "        <matplotlib.axes._subplots.AxesSubplot object at 0x7fe7e9049780>,\n",
       "        <matplotlib.axes._subplots.AxesSubplot object at 0x7fe7e37d1dd8>,\n",
       "        <matplotlib.axes._subplots.AxesSubplot object at 0x7fe7e37814a8>,\n",
       "        <matplotlib.axes._subplots.AxesSubplot object at 0x7fe7e37a8b38>,\n",
       "        <matplotlib.axes._subplots.AxesSubplot object at 0x7fe7e37a8b70>],\n",
       "       [<matplotlib.axes._subplots.AxesSubplot object at 0x7fe7e3702898>,\n",
       "        <matplotlib.axes._subplots.AxesSubplot object at 0x7fe7e372bf28>,\n",
       "        <matplotlib.axes._subplots.AxesSubplot object at 0x7fe7e36dd5f8>,\n",
       "        <matplotlib.axes._subplots.AxesSubplot object at 0x7fe7e3686c88>,\n",
       "        <matplotlib.axes._subplots.AxesSubplot object at 0x7fe7e36b8358>,\n",
       "        <matplotlib.axes._subplots.AxesSubplot object at 0x7fe7e365d9e8>],\n",
       "       [<matplotlib.axes._subplots.AxesSubplot object at 0x7fe7e36120b8>,\n",
       "        <matplotlib.axes._subplots.AxesSubplot object at 0x7fe7e3639748>,\n",
       "        <matplotlib.axes._subplots.AxesSubplot object at 0x7fe7e35e2dd8>,\n",
       "        <matplotlib.axes._subplots.AxesSubplot object at 0x7fe7e35924a8>,\n",
       "        <matplotlib.axes._subplots.AxesSubplot object at 0x7fe7e35bbb38>,\n",
       "        <matplotlib.axes._subplots.AxesSubplot object at 0x7fe7e356e208>],\n",
       "       [<matplotlib.axes._subplots.AxesSubplot object at 0x7fe7e3514898>,\n",
       "        <matplotlib.axes._subplots.AxesSubplot object at 0x7fe7e353ef28>,\n",
       "        <matplotlib.axes._subplots.AxesSubplot object at 0x7fe7e34f05f8>,\n",
       "        <matplotlib.axes._subplots.AxesSubplot object at 0x7fe7e3496c88>,\n",
       "        <matplotlib.axes._subplots.AxesSubplot object at 0x7fe7e3448358>,\n",
       "        <matplotlib.axes._subplots.AxesSubplot object at 0x7fe7e34709e8>],\n",
       "       [<matplotlib.axes._subplots.AxesSubplot object at 0x7fe7e34240b8>,\n",
       "        <matplotlib.axes._subplots.AxesSubplot object at 0x7fe7e33cb748>,\n",
       "        <matplotlib.axes._subplots.AxesSubplot object at 0x7fe7e33f5dd8>,\n",
       "        <matplotlib.axes._subplots.AxesSubplot object at 0x7fe7e33a44a8>,\n",
       "        <matplotlib.axes._subplots.AxesSubplot object at 0x7fe7e334bb38>,\n",
       "        <matplotlib.axes._subplots.AxesSubplot object at 0x7fe7e337e208>],\n",
       "       [<matplotlib.axes._subplots.AxesSubplot object at 0x7fe7e3328898>,\n",
       "        <matplotlib.axes._subplots.AxesSubplot object at 0x7fe7e32cef28>,\n",
       "        <matplotlib.axes._subplots.AxesSubplot object at 0x7fe7e32825f8>,\n",
       "        <matplotlib.axes._subplots.AxesSubplot object at 0x7fe7e32a9c88>,\n",
       "        <matplotlib.axes._subplots.AxesSubplot object at 0x7fe7e325b358>,\n",
       "        <matplotlib.axes._subplots.AxesSubplot object at 0x7fe7e32029e8>]],\n",
       "      dtype=object)"
      ]
     },
     "execution_count": 34,
     "metadata": {},
     "output_type": "execute_result"
    },
    {
     "data": {
      "image/png": "[encoded data removed]",
      "text/plain": [
       "<Figure size 1080x720 with 36 Axes>"
      ]
     },
     "metadata": {
      "needs_background": "light"
     },
     "output_type": "display_data"
    }
   ],
   "source": [
    "from pandas.plotting import scatter_matrix\n",
    "scatter_matrix(housing[['housing_median_age', 'total_rooms', 'total_bedrooms','population', \n",
    "                        'median_income', 'median_house_value']],\n",
    "              figsize=(15,10))"
   ]
  },
  {
   "cell_type": "markdown",
   "metadata": {},
   "source": [
    "#### Data PreProcessing"
   ]
  },
  {
   "cell_type": "markdown",
   "metadata": {},
   "source": [
    "#### Using Pandas"
   ]
  },
  {
   "cell_type": "code",
   "execution_count": 35,
   "metadata": {},
   "outputs": [],
   "source": [
    "# Create a copy of the training data set\n",
    "\n",
    "housing = s_train_set.copy()"
   ]
  },
  {
   "cell_type": "code",
   "execution_count": 36,
   "metadata": {},
   "outputs": [
    {
     "data": {
      "text/html": [
       "<div>\n",
       "<style scoped>\n",
       "    .dataframe tbody tr th:only-of-type {\n",
       "        vertical-align: middle;\n",
       "    }\n",
       "\n",
       "    .dataframe tbody tr th {\n",
       "        vertical-align: top;\n",
       "    }\n",
       "\n",
       "    .dataframe thead th {\n",
       "        text-align: right;\n",
       "    }\n",
       "</style>\n",
       "<table border=\"1\" class=\"dataframe\">\n",
       "  <thead>\n",
       "    <tr style=\"text-align: right;\">\n",
       "      <th></th>\n",
       "      <th>longitude</th>\n",
       "      <th>latitude</th>\n",
       "      <th>housing_median_age</th>\n",
       "      <th>total_rooms</th>\n",
       "      <th>total_bedrooms</th>\n",
       "      <th>population</th>\n",
       "      <th>households</th>\n",
       "      <th>median_income</th>\n",
       "      <th>ocean_proximity</th>\n",
       "      <th>income_cat</th>\n",
       "    </tr>\n",
       "  </thead>\n",
       "  <tbody>\n",
       "    <tr>\n",
       "      <th>1484</th>\n",
       "      <td>-122.05</td>\n",
       "      <td>37.95</td>\n",
       "      <td>20.0</td>\n",
       "      <td>563.0</td>\n",
       "      <td>107.0</td>\n",
       "      <td>246.0</td>\n",
       "      <td>123.0</td>\n",
       "      <td>5.4482</td>\n",
       "      <td>NEAR BAY</td>\n",
       "      <td>4.0</td>\n",
       "    </tr>\n",
       "    <tr>\n",
       "      <th>10652</th>\n",
       "      <td>-117.77</td>\n",
       "      <td>33.55</td>\n",
       "      <td>28.0</td>\n",
       "      <td>2024.0</td>\n",
       "      <td>297.0</td>\n",
       "      <td>617.0</td>\n",
       "      <td>274.0</td>\n",
       "      <td>6.7861</td>\n",
       "      <td>&lt;1H OCEAN</td>\n",
       "      <td>5.0</td>\n",
       "    </tr>\n",
       "    <tr>\n",
       "      <th>11959</th>\n",
       "      <td>-117.44</td>\n",
       "      <td>33.90</td>\n",
       "      <td>23.0</td>\n",
       "      <td>4487.0</td>\n",
       "      <td>754.0</td>\n",
       "      <td>2609.0</td>\n",
       "      <td>778.0</td>\n",
       "      <td>4.2788</td>\n",
       "      <td>INLAND</td>\n",
       "      <td>3.0</td>\n",
       "    </tr>\n",
       "    <tr>\n",
       "      <th>4078</th>\n",
       "      <td>-118.36</td>\n",
       "      <td>34.15</td>\n",
       "      <td>41.0</td>\n",
       "      <td>3545.0</td>\n",
       "      <td>698.0</td>\n",
       "      <td>1221.0</td>\n",
       "      <td>651.0</td>\n",
       "      <td>4.3000</td>\n",
       "      <td>&lt;1H OCEAN</td>\n",
       "      <td>3.0</td>\n",
       "    </tr>\n",
       "    <tr>\n",
       "      <th>7696</th>\n",
       "      <td>-118.12</td>\n",
       "      <td>33.95</td>\n",
       "      <td>35.0</td>\n",
       "      <td>1604.0</td>\n",
       "      <td>280.0</td>\n",
       "      <td>802.0</td>\n",
       "      <td>280.0</td>\n",
       "      <td>5.7520</td>\n",
       "      <td>&lt;1H OCEAN</td>\n",
       "      <td>4.0</td>\n",
       "    </tr>\n",
       "  </tbody>\n",
       "</table>\n",
       "</div>"
      ],
      "text/plain": [
       "       longitude  latitude  housing_median_age  total_rooms  total_bedrooms  \\\n",
       "1484     -122.05     37.95                20.0        563.0           107.0   \n",
       "10652    -117.77     33.55                28.0       2024.0           297.0   \n",
       "11959    -117.44     33.90                23.0       4487.0           754.0   \n",
       "4078     -118.36     34.15                41.0       3545.0           698.0   \n",
       "7696     -118.12     33.95                35.0       1604.0           280.0   \n",
       "\n",
       "       population  households  median_income ocean_proximity  income_cat  \n",
       "1484        246.0       123.0         5.4482        NEAR BAY         4.0  \n",
       "10652       617.0       274.0         6.7861       <1H OCEAN         5.0  \n",
       "11959      2609.0       778.0         4.2788          INLAND         3.0  \n",
       "4078       1221.0       651.0         4.3000       <1H OCEAN         3.0  \n",
       "7696        802.0       280.0         5.7520       <1H OCEAN         4.0  "
      ]
     },
     "execution_count": 36,
     "metadata": {},
     "output_type": "execute_result"
    }
   ],
   "source": [
    "# Drop the target variable from the train set\n",
    "\n",
    "housing.drop('median_house_value', axis=1, inplace=True)\n",
    "housing.tail()"
   ]
  },
  {
   "cell_type": "code",
   "execution_count": 37,
   "metadata": {},
   "outputs": [
    {
     "data": {
      "text/plain": [
       "1484     190800.0\n",
       "10652    499100.0\n",
       "11959    148700.0\n",
       "4078     500001.0\n",
       "7696     291000.0\n",
       "Name: median_house_value, dtype: float64"
      ]
     },
     "execution_count": 37,
     "metadata": {},
     "output_type": "execute_result"
    }
   ],
   "source": [
    "# Create a copy of the target variable of train set\n",
    "\n",
    "housing_labels = s_train_set['median_house_value'].copy()\n",
    "housing_labels.tail()"
   ]
  },
  {
   "cell_type": "code",
   "execution_count": 38,
   "metadata": {},
   "outputs": [
    {
     "data": {
      "text/html": [
       "<div>\n",
       "<style scoped>\n",
       "    .dataframe tbody tr th:only-of-type {\n",
       "        vertical-align: middle;\n",
       "    }\n",
       "\n",
       "    .dataframe tbody tr th {\n",
       "        vertical-align: top;\n",
       "    }\n",
       "\n",
       "    .dataframe thead th {\n",
       "        text-align: right;\n",
       "    }\n",
       "</style>\n",
       "<table border=\"1\" class=\"dataframe\">\n",
       "  <thead>\n",
       "    <tr style=\"text-align: right;\">\n",
       "      <th></th>\n",
       "      <th>longitude</th>\n",
       "      <th>latitude</th>\n",
       "      <th>housing_median_age</th>\n",
       "      <th>total_rooms</th>\n",
       "      <th>total_bedrooms</th>\n",
       "      <th>population</th>\n",
       "      <th>households</th>\n",
       "      <th>median_income</th>\n",
       "      <th>ocean_proximity</th>\n",
       "      <th>income_cat</th>\n",
       "    </tr>\n",
       "  </thead>\n",
       "  <tbody>\n",
       "    <tr>\n",
       "      <th>4591</th>\n",
       "      <td>-118.28</td>\n",
       "      <td>34.06</td>\n",
       "      <td>42.0</td>\n",
       "      <td>2472.0</td>\n",
       "      <td>NaN</td>\n",
       "      <td>3795.0</td>\n",
       "      <td>1179.0</td>\n",
       "      <td>1.2254</td>\n",
       "      <td>&lt;1H OCEAN</td>\n",
       "      <td>1.0</td>\n",
       "    </tr>\n",
       "    <tr>\n",
       "      <th>7097</th>\n",
       "      <td>-117.98</td>\n",
       "      <td>33.92</td>\n",
       "      <td>27.0</td>\n",
       "      <td>3700.0</td>\n",
       "      <td>NaN</td>\n",
       "      <td>1793.0</td>\n",
       "      <td>552.0</td>\n",
       "      <td>5.3668</td>\n",
       "      <td>&lt;1H OCEAN</td>\n",
       "      <td>4.0</td>\n",
       "    </tr>\n",
       "    <tr>\n",
       "      <th>13597</th>\n",
       "      <td>-117.28</td>\n",
       "      <td>34.09</td>\n",
       "      <td>44.0</td>\n",
       "      <td>376.0</td>\n",
       "      <td>NaN</td>\n",
       "      <td>273.0</td>\n",
       "      <td>107.0</td>\n",
       "      <td>2.2917</td>\n",
       "      <td>INLAND</td>\n",
       "      <td>2.0</td>\n",
       "    </tr>\n",
       "    <tr>\n",
       "      <th>17202</th>\n",
       "      <td>-119.73</td>\n",
       "      <td>34.44</td>\n",
       "      <td>38.0</td>\n",
       "      <td>1729.0</td>\n",
       "      <td>NaN</td>\n",
       "      <td>801.0</td>\n",
       "      <td>395.0</td>\n",
       "      <td>3.1364</td>\n",
       "      <td>NEAR OCEAN</td>\n",
       "      <td>3.0</td>\n",
       "    </tr>\n",
       "    <tr>\n",
       "      <th>14331</th>\n",
       "      <td>-117.15</td>\n",
       "      <td>32.72</td>\n",
       "      <td>51.0</td>\n",
       "      <td>1321.0</td>\n",
       "      <td>NaN</td>\n",
       "      <td>781.0</td>\n",
       "      <td>499.0</td>\n",
       "      <td>1.3071</td>\n",
       "      <td>NEAR OCEAN</td>\n",
       "      <td>1.0</td>\n",
       "    </tr>\n",
       "  </tbody>\n",
       "</table>\n",
       "</div>"
      ],
      "text/plain": [
       "       longitude  latitude  housing_median_age  total_rooms  total_bedrooms  \\\n",
       "4591     -118.28     34.06                42.0       2472.0             NaN   \n",
       "7097     -117.98     33.92                27.0       3700.0             NaN   \n",
       "13597    -117.28     34.09                44.0        376.0             NaN   \n",
       "17202    -119.73     34.44                38.0       1729.0             NaN   \n",
       "14331    -117.15     32.72                51.0       1321.0             NaN   \n",
       "\n",
       "       population  households  median_income ocean_proximity  income_cat  \n",
       "4591       3795.0      1179.0         1.2254       <1H OCEAN         1.0  \n",
       "7097       1793.0       552.0         5.3668       <1H OCEAN         4.0  \n",
       "13597       273.0       107.0         2.2917          INLAND         2.0  \n",
       "17202       801.0       395.0         3.1364      NEAR OCEAN         3.0  \n",
       "14331       781.0       499.0         1.3071      NEAR OCEAN         1.0  "
      ]
     },
     "execution_count": 38,
     "metadata": {},
     "output_type": "execute_result"
    }
   ],
   "source": [
    "# Rows with Null Values on the training dataset - Features\n",
    "\n",
    "incomplete_rows = housing[housing.isnull().any(axis=1)]\n",
    "incomplete_rows.head()"
   ]
  },
  {
   "cell_type": "markdown",
   "metadata": {},
   "source": [
    "#### Imputing the NaN Values"
   ]
  },
  {
   "cell_type": "code",
   "execution_count": 39,
   "metadata": {},
   "outputs": [],
   "source": [
    "# Drop all rows with Null values on total bedrooms\n",
    "# incomplete_rows.dropna(subset=['total_bedrooms'])"
   ]
  },
  {
   "cell_type": "code",
   "execution_count": 40,
   "metadata": {},
   "outputs": [],
   "source": [
    "# this is an option to dropt the this featuer\n",
    "#incomplete_rows.drop('total_bedrooms', axis=1)"
   ]
  },
  {
   "cell_type": "code",
   "execution_count": 41,
   "metadata": {},
   "outputs": [
    {
     "name": "stderr",
     "output_type": "stream",
     "text": [
      "/usr/local/lib/python3.6/dist-packages/pandas/core/generic.py:5434: SettingWithCopyWarning: \n",
      "A value is trying to be set on a copy of a slice from a DataFrame\n",
      "\n",
      "See the caveats in the documentation: http://pandas.pydata.org/pandas-docs/stable/indexing.html#indexing-view-versus-copy\n",
      "  self._update_inplace(new_data)\n"
     ]
    }
   ],
   "source": [
    "# Fill NaN with median values\n",
    "\n",
    "incomplete_rows['total_bedrooms'].fillna(housing['total_bedrooms'].median(), inplace=True)"
   ]
  },
  {
   "cell_type": "code",
   "execution_count": 42,
   "metadata": {},
   "outputs": [
    {
     "data": {
      "text/html": [
       "<div>\n",
       "<style scoped>\n",
       "    .dataframe tbody tr th:only-of-type {\n",
       "        vertical-align: middle;\n",
       "    }\n",
       "\n",
       "    .dataframe tbody tr th {\n",
       "        vertical-align: top;\n",
       "    }\n",
       "\n",
       "    .dataframe thead th {\n",
       "        text-align: right;\n",
       "    }\n",
       "</style>\n",
       "<table border=\"1\" class=\"dataframe\">\n",
       "  <thead>\n",
       "    <tr style=\"text-align: right;\">\n",
       "      <th></th>\n",
       "      <th>longitude</th>\n",
       "      <th>latitude</th>\n",
       "      <th>housing_median_age</th>\n",
       "      <th>total_rooms</th>\n",
       "      <th>total_bedrooms</th>\n",
       "      <th>population</th>\n",
       "      <th>households</th>\n",
       "      <th>median_income</th>\n",
       "      <th>ocean_proximity</th>\n",
       "      <th>income_cat</th>\n",
       "    </tr>\n",
       "  </thead>\n",
       "  <tbody>\n",
       "    <tr>\n",
       "      <th>4591</th>\n",
       "      <td>-118.28</td>\n",
       "      <td>34.06</td>\n",
       "      <td>42.0</td>\n",
       "      <td>2472.0</td>\n",
       "      <td>435.0</td>\n",
       "      <td>3795.0</td>\n",
       "      <td>1179.0</td>\n",
       "      <td>1.2254</td>\n",
       "      <td>&lt;1H OCEAN</td>\n",
       "      <td>1.0</td>\n",
       "    </tr>\n",
       "    <tr>\n",
       "      <th>7097</th>\n",
       "      <td>-117.98</td>\n",
       "      <td>33.92</td>\n",
       "      <td>27.0</td>\n",
       "      <td>3700.0</td>\n",
       "      <td>435.0</td>\n",
       "      <td>1793.0</td>\n",
       "      <td>552.0</td>\n",
       "      <td>5.3668</td>\n",
       "      <td>&lt;1H OCEAN</td>\n",
       "      <td>4.0</td>\n",
       "    </tr>\n",
       "    <tr>\n",
       "      <th>13597</th>\n",
       "      <td>-117.28</td>\n",
       "      <td>34.09</td>\n",
       "      <td>44.0</td>\n",
       "      <td>376.0</td>\n",
       "      <td>435.0</td>\n",
       "      <td>273.0</td>\n",
       "      <td>107.0</td>\n",
       "      <td>2.2917</td>\n",
       "      <td>INLAND</td>\n",
       "      <td>2.0</td>\n",
       "    </tr>\n",
       "    <tr>\n",
       "      <th>17202</th>\n",
       "      <td>-119.73</td>\n",
       "      <td>34.44</td>\n",
       "      <td>38.0</td>\n",
       "      <td>1729.0</td>\n",
       "      <td>435.0</td>\n",
       "      <td>801.0</td>\n",
       "      <td>395.0</td>\n",
       "      <td>3.1364</td>\n",
       "      <td>NEAR OCEAN</td>\n",
       "      <td>3.0</td>\n",
       "    </tr>\n",
       "    <tr>\n",
       "      <th>14331</th>\n",
       "      <td>-117.15</td>\n",
       "      <td>32.72</td>\n",
       "      <td>51.0</td>\n",
       "      <td>1321.0</td>\n",
       "      <td>435.0</td>\n",
       "      <td>781.0</td>\n",
       "      <td>499.0</td>\n",
       "      <td>1.3071</td>\n",
       "      <td>NEAR OCEAN</td>\n",
       "      <td>1.0</td>\n",
       "    </tr>\n",
       "  </tbody>\n",
       "</table>\n",
       "</div>"
      ],
      "text/plain": [
       "       longitude  latitude  housing_median_age  total_rooms  total_bedrooms  \\\n",
       "4591     -118.28     34.06                42.0       2472.0           435.0   \n",
       "7097     -117.98     33.92                27.0       3700.0           435.0   \n",
       "13597    -117.28     34.09                44.0        376.0           435.0   \n",
       "17202    -119.73     34.44                38.0       1729.0           435.0   \n",
       "14331    -117.15     32.72                51.0       1321.0           435.0   \n",
       "\n",
       "       population  households  median_income ocean_proximity  income_cat  \n",
       "4591       3795.0      1179.0         1.2254       <1H OCEAN         1.0  \n",
       "7097       1793.0       552.0         5.3668       <1H OCEAN         4.0  \n",
       "13597       273.0       107.0         2.2917          INLAND         2.0  \n",
       "17202       801.0       395.0         3.1364      NEAR OCEAN         3.0  \n",
       "14331       781.0       499.0         1.3071      NEAR OCEAN         1.0  "
      ]
     },
     "execution_count": 42,
     "metadata": {},
     "output_type": "execute_result"
    }
   ],
   "source": [
    "# Print the sample\n",
    "\n",
    "incomplete_rows.head()"
   ]
  },
  {
   "cell_type": "markdown",
   "metadata": {},
   "source": [
    "---"
   ]
  },
  {
   "cell_type": "markdown",
   "metadata": {},
   "source": [
    "#### Using Scikit-Learn"
   ]
  },
  {
   "cell_type": "code",
   "execution_count": 43,
   "metadata": {},
   "outputs": [],
   "source": [
    "# Import the Scikit Learn Library\n",
    "\n",
    "\n",
    "from sklearn.impute import SimpleImputer"
   ]
  },
  {
   "cell_type": "code",
   "execution_count": 44,
   "metadata": {},
   "outputs": [],
   "source": [
    "# Create the imputer\n",
    "\n",
    "imputer = SimpleImputer(strategy='median')"
   ]
  },
  {
   "cell_type": "code",
   "execution_count": 45,
   "metadata": {},
   "outputs": [
    {
     "data": {
      "text/html": [
       "<div>\n",
       "<style scoped>\n",
       "    .dataframe tbody tr th:only-of-type {\n",
       "        vertical-align: middle;\n",
       "    }\n",
       "\n",
       "    .dataframe tbody tr th {\n",
       "        vertical-align: top;\n",
       "    }\n",
       "\n",
       "    .dataframe thead th {\n",
       "        text-align: right;\n",
       "    }\n",
       "</style>\n",
       "<table border=\"1\" class=\"dataframe\">\n",
       "  <thead>\n",
       "    <tr style=\"text-align: right;\">\n",
       "      <th></th>\n",
       "      <th>longitude</th>\n",
       "      <th>latitude</th>\n",
       "      <th>housing_median_age</th>\n",
       "      <th>total_rooms</th>\n",
       "      <th>total_bedrooms</th>\n",
       "      <th>population</th>\n",
       "      <th>households</th>\n",
       "      <th>median_income</th>\n",
       "      <th>ocean_proximity</th>\n",
       "      <th>income_cat</th>\n",
       "    </tr>\n",
       "  </thead>\n",
       "  <tbody>\n",
       "    <tr>\n",
       "      <th>13342</th>\n",
       "      <td>-117.65</td>\n",
       "      <td>34.03</td>\n",
       "      <td>15.0</td>\n",
       "      <td>4420.0</td>\n",
       "      <td>903.0</td>\n",
       "      <td>2373.0</td>\n",
       "      <td>858.0</td>\n",
       "      <td>3.4490</td>\n",
       "      <td>INLAND</td>\n",
       "      <td>3.0</td>\n",
       "    </tr>\n",
       "    <tr>\n",
       "      <th>10651</th>\n",
       "      <td>-117.77</td>\n",
       "      <td>33.51</td>\n",
       "      <td>29.0</td>\n",
       "      <td>3590.0</td>\n",
       "      <td>772.0</td>\n",
       "      <td>1070.0</td>\n",
       "      <td>603.0</td>\n",
       "      <td>4.4464</td>\n",
       "      <td>&lt;1H OCEAN</td>\n",
       "      <td>3.0</td>\n",
       "    </tr>\n",
       "    <tr>\n",
       "      <th>6556</th>\n",
       "      <td>-118.11</td>\n",
       "      <td>34.19</td>\n",
       "      <td>50.0</td>\n",
       "      <td>1430.0</td>\n",
       "      <td>186.0</td>\n",
       "      <td>620.0</td>\n",
       "      <td>201.0</td>\n",
       "      <td>9.5320</td>\n",
       "      <td>INLAND</td>\n",
       "      <td>5.0</td>\n",
       "    </tr>\n",
       "    <tr>\n",
       "      <th>11450</th>\n",
       "      <td>-117.98</td>\n",
       "      <td>33.68</td>\n",
       "      <td>17.0</td>\n",
       "      <td>2603.0</td>\n",
       "      <td>373.0</td>\n",
       "      <td>1265.0</td>\n",
       "      <td>382.0</td>\n",
       "      <td>6.8039</td>\n",
       "      <td>&lt;1H OCEAN</td>\n",
       "      <td>5.0</td>\n",
       "    </tr>\n",
       "    <tr>\n",
       "      <th>14821</th>\n",
       "      <td>-117.11</td>\n",
       "      <td>32.67</td>\n",
       "      <td>52.0</td>\n",
       "      <td>204.0</td>\n",
       "      <td>74.0</td>\n",
       "      <td>248.0</td>\n",
       "      <td>57.0</td>\n",
       "      <td>1.7961</td>\n",
       "      <td>NEAR OCEAN</td>\n",
       "      <td>2.0</td>\n",
       "    </tr>\n",
       "  </tbody>\n",
       "</table>\n",
       "</div>"
      ],
      "text/plain": [
       "       longitude  latitude  housing_median_age  total_rooms  total_bedrooms  \\\n",
       "13342    -117.65     34.03                15.0       4420.0           903.0   \n",
       "10651    -117.77     33.51                29.0       3590.0           772.0   \n",
       "6556     -118.11     34.19                50.0       1430.0           186.0   \n",
       "11450    -117.98     33.68                17.0       2603.0           373.0   \n",
       "14821    -117.11     32.67                52.0        204.0            74.0   \n",
       "\n",
       "       population  households  median_income ocean_proximity  income_cat  \n",
       "13342      2373.0       858.0         3.4490          INLAND         3.0  \n",
       "10651      1070.0       603.0         4.4464       <1H OCEAN         3.0  \n",
       "6556        620.0       201.0         9.5320          INLAND         5.0  \n",
       "11450      1265.0       382.0         6.8039       <1H OCEAN         5.0  \n",
       "14821       248.0        57.0         1.7961      NEAR OCEAN         2.0  "
      ]
     },
     "execution_count": 45,
     "metadata": {},
     "output_type": "execute_result"
    }
   ],
   "source": [
    "# Print a preview\n",
    "\n",
    "housing.head()"
   ]
  },
  {
   "cell_type": "code",
   "execution_count": 46,
   "metadata": {},
   "outputs": [
    {
     "data": {
      "text/html": [
       "<div>\n",
       "<style scoped>\n",
       "    .dataframe tbody tr th:only-of-type {\n",
       "        vertical-align: middle;\n",
       "    }\n",
       "\n",
       "    .dataframe tbody tr th {\n",
       "        vertical-align: top;\n",
       "    }\n",
       "\n",
       "    .dataframe thead th {\n",
       "        text-align: right;\n",
       "    }\n",
       "</style>\n",
       "<table border=\"1\" class=\"dataframe\">\n",
       "  <thead>\n",
       "    <tr style=\"text-align: right;\">\n",
       "      <th></th>\n",
       "      <th>longitude</th>\n",
       "      <th>latitude</th>\n",
       "      <th>housing_median_age</th>\n",
       "      <th>total_rooms</th>\n",
       "      <th>total_bedrooms</th>\n",
       "      <th>population</th>\n",
       "      <th>households</th>\n",
       "      <th>median_income</th>\n",
       "      <th>income_cat</th>\n",
       "    </tr>\n",
       "  </thead>\n",
       "  <tbody>\n",
       "    <tr>\n",
       "      <th>13342</th>\n",
       "      <td>-117.65</td>\n",
       "      <td>34.03</td>\n",
       "      <td>15.0</td>\n",
       "      <td>4420.0</td>\n",
       "      <td>903.0</td>\n",
       "      <td>2373.0</td>\n",
       "      <td>858.0</td>\n",
       "      <td>3.4490</td>\n",
       "      <td>3.0</td>\n",
       "    </tr>\n",
       "    <tr>\n",
       "      <th>10651</th>\n",
       "      <td>-117.77</td>\n",
       "      <td>33.51</td>\n",
       "      <td>29.0</td>\n",
       "      <td>3590.0</td>\n",
       "      <td>772.0</td>\n",
       "      <td>1070.0</td>\n",
       "      <td>603.0</td>\n",
       "      <td>4.4464</td>\n",
       "      <td>3.0</td>\n",
       "    </tr>\n",
       "    <tr>\n",
       "      <th>6556</th>\n",
       "      <td>-118.11</td>\n",
       "      <td>34.19</td>\n",
       "      <td>50.0</td>\n",
       "      <td>1430.0</td>\n",
       "      <td>186.0</td>\n",
       "      <td>620.0</td>\n",
       "      <td>201.0</td>\n",
       "      <td>9.5320</td>\n",
       "      <td>5.0</td>\n",
       "    </tr>\n",
       "    <tr>\n",
       "      <th>11450</th>\n",
       "      <td>-117.98</td>\n",
       "      <td>33.68</td>\n",
       "      <td>17.0</td>\n",
       "      <td>2603.0</td>\n",
       "      <td>373.0</td>\n",
       "      <td>1265.0</td>\n",
       "      <td>382.0</td>\n",
       "      <td>6.8039</td>\n",
       "      <td>5.0</td>\n",
       "    </tr>\n",
       "    <tr>\n",
       "      <th>14821</th>\n",
       "      <td>-117.11</td>\n",
       "      <td>32.67</td>\n",
       "      <td>52.0</td>\n",
       "      <td>204.0</td>\n",
       "      <td>74.0</td>\n",
       "      <td>248.0</td>\n",
       "      <td>57.0</td>\n",
       "      <td>1.7961</td>\n",
       "      <td>2.0</td>\n",
       "    </tr>\n",
       "  </tbody>\n",
       "</table>\n",
       "</div>"
      ],
      "text/plain": [
       "       longitude  latitude  housing_median_age  total_rooms  total_bedrooms  \\\n",
       "13342    -117.65     34.03                15.0       4420.0           903.0   \n",
       "10651    -117.77     33.51                29.0       3590.0           772.0   \n",
       "6556     -118.11     34.19                50.0       1430.0           186.0   \n",
       "11450    -117.98     33.68                17.0       2603.0           373.0   \n",
       "14821    -117.11     32.67                52.0        204.0            74.0   \n",
       "\n",
       "       population  households  median_income  income_cat  \n",
       "13342      2373.0       858.0         3.4490         3.0  \n",
       "10651      1070.0       603.0         4.4464         3.0  \n",
       "6556        620.0       201.0         9.5320         5.0  \n",
       "11450      1265.0       382.0         6.8039         5.0  \n",
       "14821       248.0        57.0         1.7961         2.0  "
      ]
     },
     "execution_count": 46,
     "metadata": {},
     "output_type": "execute_result"
    }
   ],
   "source": [
    "# Drop the non-numeric feature from the training set\n",
    "\n",
    "numeric_housing = housing.drop('ocean_proximity', axis =1)\n",
    "numeric_housing.head()"
   ]
  },
  {
   "cell_type": "code",
   "execution_count": 47,
   "metadata": {},
   "outputs": [
    {
     "data": {
      "text/plain": [
       "SimpleImputer(copy=True, fill_value=None, missing_values=nan,\n",
       "       strategy='median', verbose=0)"
      ]
     },
     "execution_count": 47,
     "metadata": {},
     "output_type": "execute_result"
    }
   ],
   "source": [
    "# apply the imputer to the training set\n",
    "\n",
    "imputer.fit(numeric_housing)"
   ]
  },
  {
   "cell_type": "code",
   "execution_count": 48,
   "metadata": {},
   "outputs": [
    {
     "data": {
      "text/plain": [
       "array([-118.5    ,   34.26   ,   29.     , 2123.5    ,  435.     ,\n",
       "       1160.     ,  409.     ,    3.53795,    3.     ])"
      ]
     },
     "execution_count": 48,
     "metadata": {},
     "output_type": "execute_result"
    }
   ],
   "source": [
    "# Imputer will return statistics\n",
    "\n",
    "imputer.statistics_"
   ]
  },
  {
   "cell_type": "code",
   "execution_count": 49,
   "metadata": {},
   "outputs": [
    {
     "data": {
      "text/plain": [
       "array([-118.5    ,   34.26   ,   29.     , 2123.5    ,  435.     ,\n",
       "       1160.     ,  409.     ,    3.53795,    3.     ])"
      ]
     },
     "execution_count": 49,
     "metadata": {},
     "output_type": "execute_result"
    }
   ],
   "source": [
    "# Validate that the statistical data from before and after impute are the same\n",
    "\n",
    "numeric_housing.median().values"
   ]
  },
  {
   "cell_type": "code",
   "execution_count": 50,
   "metadata": {},
   "outputs": [
    {
     "data": {
      "text/plain": [
       "array([[-117.65  ,   34.03  ,   15.    , ...,  858.    ,    3.449 ,\n",
       "           3.    ],\n",
       "       [-117.77  ,   33.51  ,   29.    , ...,  603.    ,    4.4464,\n",
       "           3.    ],\n",
       "       [-118.11  ,   34.19  ,   50.    , ...,  201.    ,    9.532 ,\n",
       "           5.    ],\n",
       "       ...,\n",
       "       [-117.44  ,   33.9   ,   23.    , ...,  778.    ,    4.2788,\n",
       "           3.    ],\n",
       "       [-118.36  ,   34.15  ,   41.    , ...,  651.    ,    4.3   ,\n",
       "           3.    ],\n",
       "       [-118.12  ,   33.95  ,   35.    , ...,  280.    ,    5.752 ,\n",
       "           4.    ]])"
      ]
     },
     "execution_count": 50,
     "metadata": {},
     "output_type": "execute_result"
    }
   ],
   "source": [
    "# Feaures are usually assign to variable X\n",
    "\n",
    "X = imputer.transform(numeric_housing)\n",
    "X"
   ]
  },
  {
   "cell_type": "code",
   "execution_count": 51,
   "metadata": {},
   "outputs": [
    {
     "data": {
      "text/html": [
       "<div>\n",
       "<style scoped>\n",
       "    .dataframe tbody tr th:only-of-type {\n",
       "        vertical-align: middle;\n",
       "    }\n",
       "\n",
       "    .dataframe tbody tr th {\n",
       "        vertical-align: top;\n",
       "    }\n",
       "\n",
       "    .dataframe thead th {\n",
       "        text-align: right;\n",
       "    }\n",
       "</style>\n",
       "<table border=\"1\" class=\"dataframe\">\n",
       "  <thead>\n",
       "    <tr style=\"text-align: right;\">\n",
       "      <th></th>\n",
       "      <th>longitude</th>\n",
       "      <th>latitude</th>\n",
       "      <th>housing_median_age</th>\n",
       "      <th>total_rooms</th>\n",
       "      <th>total_bedrooms</th>\n",
       "      <th>population</th>\n",
       "      <th>households</th>\n",
       "      <th>median_income</th>\n",
       "      <th>income_cat</th>\n",
       "    </tr>\n",
       "  </thead>\n",
       "  <tbody>\n",
       "    <tr>\n",
       "      <th>13342</th>\n",
       "      <td>-117.65</td>\n",
       "      <td>34.03</td>\n",
       "      <td>15.0</td>\n",
       "      <td>4420.0</td>\n",
       "      <td>903.0</td>\n",
       "      <td>2373.0</td>\n",
       "      <td>858.0</td>\n",
       "      <td>3.4490</td>\n",
       "      <td>3.0</td>\n",
       "    </tr>\n",
       "    <tr>\n",
       "      <th>10651</th>\n",
       "      <td>-117.77</td>\n",
       "      <td>33.51</td>\n",
       "      <td>29.0</td>\n",
       "      <td>3590.0</td>\n",
       "      <td>772.0</td>\n",
       "      <td>1070.0</td>\n",
       "      <td>603.0</td>\n",
       "      <td>4.4464</td>\n",
       "      <td>3.0</td>\n",
       "    </tr>\n",
       "    <tr>\n",
       "      <th>6556</th>\n",
       "      <td>-118.11</td>\n",
       "      <td>34.19</td>\n",
       "      <td>50.0</td>\n",
       "      <td>1430.0</td>\n",
       "      <td>186.0</td>\n",
       "      <td>620.0</td>\n",
       "      <td>201.0</td>\n",
       "      <td>9.5320</td>\n",
       "      <td>5.0</td>\n",
       "    </tr>\n",
       "    <tr>\n",
       "      <th>11450</th>\n",
       "      <td>-117.98</td>\n",
       "      <td>33.68</td>\n",
       "      <td>17.0</td>\n",
       "      <td>2603.0</td>\n",
       "      <td>373.0</td>\n",
       "      <td>1265.0</td>\n",
       "      <td>382.0</td>\n",
       "      <td>6.8039</td>\n",
       "      <td>5.0</td>\n",
       "    </tr>\n",
       "    <tr>\n",
       "      <th>14821</th>\n",
       "      <td>-117.11</td>\n",
       "      <td>32.67</td>\n",
       "      <td>52.0</td>\n",
       "      <td>204.0</td>\n",
       "      <td>74.0</td>\n",
       "      <td>248.0</td>\n",
       "      <td>57.0</td>\n",
       "      <td>1.7961</td>\n",
       "      <td>2.0</td>\n",
       "    </tr>\n",
       "  </tbody>\n",
       "</table>\n",
       "</div>"
      ],
      "text/plain": [
       "       longitude  latitude  housing_median_age  total_rooms  total_bedrooms  \\\n",
       "13342    -117.65     34.03                15.0       4420.0           903.0   \n",
       "10651    -117.77     33.51                29.0       3590.0           772.0   \n",
       "6556     -118.11     34.19                50.0       1430.0           186.0   \n",
       "11450    -117.98     33.68                17.0       2603.0           373.0   \n",
       "14821    -117.11     32.67                52.0        204.0            74.0   \n",
       "\n",
       "       population  households  median_income  income_cat  \n",
       "13342      2373.0       858.0         3.4490         3.0  \n",
       "10651      1070.0       603.0         4.4464         3.0  \n",
       "6556        620.0       201.0         9.5320         5.0  \n",
       "11450      1265.0       382.0         6.8039         5.0  \n",
       "14821       248.0        57.0         1.7961         2.0  "
      ]
     },
     "execution_count": 51,
     "metadata": {},
     "output_type": "execute_result"
    }
   ],
   "source": [
    "# To get from the dataframe view after impute\n",
    "\n",
    "transformed_housing = pd.DataFrame(X, columns=numeric_housing.columns, index=list(housing.index.values))\n",
    "transformed_housing.head()"
   ]
  },
  {
   "cell_type": "markdown",
   "metadata": {},
   "source": [
    "#### Another Method"
   ]
  },
  {
   "cell_type": "code",
   "execution_count": 52,
   "metadata": {},
   "outputs": [
    {
     "data": {
      "text/plain": [
       "array([[-117.65  ,   34.03  ,   15.    , ...,  858.    ,    3.449 ,\n",
       "           3.    ],\n",
       "       [-117.77  ,   33.51  ,   29.    , ...,  603.    ,    4.4464,\n",
       "           3.    ],\n",
       "       [-118.11  ,   34.19  ,   50.    , ...,  201.    ,    9.532 ,\n",
       "           5.    ],\n",
       "       ...,\n",
       "       [-117.44  ,   33.9   ,   23.    , ...,  778.    ,    4.2788,\n",
       "           3.    ],\n",
       "       [-118.36  ,   34.15  ,   41.    , ...,  651.    ,    4.3   ,\n",
       "           3.    ],\n",
       "       [-118.12  ,   33.95  ,   35.    , ...,  280.    ,    5.752 ,\n",
       "           4.    ]])"
      ]
     },
     "execution_count": 52,
     "metadata": {},
     "output_type": "execute_result"
    }
   ],
   "source": [
    "# antother method is using the fit_transformed combining both fit and transformed\n",
    "\n",
    "X = imputer.fit_transform(numeric_housing)\n",
    "X"
   ]
  },
  {
   "cell_type": "markdown",
   "metadata": {},
   "source": [
    "---"
   ]
  },
  {
   "cell_type": "code",
   "execution_count": 53,
   "metadata": {},
   "outputs": [
    {
     "data": {
      "text/html": [
       "<div>\n",
       "<style scoped>\n",
       "    .dataframe tbody tr th:only-of-type {\n",
       "        vertical-align: middle;\n",
       "    }\n",
       "\n",
       "    .dataframe tbody tr th {\n",
       "        vertical-align: top;\n",
       "    }\n",
       "\n",
       "    .dataframe thead th {\n",
       "        text-align: right;\n",
       "    }\n",
       "</style>\n",
       "<table border=\"1\" class=\"dataframe\">\n",
       "  <thead>\n",
       "    <tr style=\"text-align: right;\">\n",
       "      <th></th>\n",
       "      <th>longitude</th>\n",
       "      <th>latitude</th>\n",
       "      <th>housing_median_age</th>\n",
       "      <th>total_rooms</th>\n",
       "      <th>total_bedrooms</th>\n",
       "      <th>population</th>\n",
       "      <th>households</th>\n",
       "      <th>median_income</th>\n",
       "      <th>income_cat</th>\n",
       "    </tr>\n",
       "  </thead>\n",
       "  <tbody>\n",
       "    <tr>\n",
       "      <th>4591</th>\n",
       "      <td>-118.28</td>\n",
       "      <td>34.06</td>\n",
       "      <td>42.0</td>\n",
       "      <td>2472.0</td>\n",
       "      <td>435.0</td>\n",
       "      <td>3795.0</td>\n",
       "      <td>1179.0</td>\n",
       "      <td>1.2254</td>\n",
       "      <td>1.0</td>\n",
       "    </tr>\n",
       "    <tr>\n",
       "      <th>7097</th>\n",
       "      <td>-117.98</td>\n",
       "      <td>33.92</td>\n",
       "      <td>27.0</td>\n",
       "      <td>3700.0</td>\n",
       "      <td>435.0</td>\n",
       "      <td>1793.0</td>\n",
       "      <td>552.0</td>\n",
       "      <td>5.3668</td>\n",
       "      <td>4.0</td>\n",
       "    </tr>\n",
       "    <tr>\n",
       "      <th>13597</th>\n",
       "      <td>-117.28</td>\n",
       "      <td>34.09</td>\n",
       "      <td>44.0</td>\n",
       "      <td>376.0</td>\n",
       "      <td>435.0</td>\n",
       "      <td>273.0</td>\n",
       "      <td>107.0</td>\n",
       "      <td>2.2917</td>\n",
       "      <td>2.0</td>\n",
       "    </tr>\n",
       "    <tr>\n",
       "      <th>17202</th>\n",
       "      <td>-119.73</td>\n",
       "      <td>34.44</td>\n",
       "      <td>38.0</td>\n",
       "      <td>1729.0</td>\n",
       "      <td>435.0</td>\n",
       "      <td>801.0</td>\n",
       "      <td>395.0</td>\n",
       "      <td>3.1364</td>\n",
       "      <td>3.0</td>\n",
       "    </tr>\n",
       "    <tr>\n",
       "      <th>14331</th>\n",
       "      <td>-117.15</td>\n",
       "      <td>32.72</td>\n",
       "      <td>51.0</td>\n",
       "      <td>1321.0</td>\n",
       "      <td>435.0</td>\n",
       "      <td>781.0</td>\n",
       "      <td>499.0</td>\n",
       "      <td>1.3071</td>\n",
       "      <td>1.0</td>\n",
       "    </tr>\n",
       "    <tr>\n",
       "      <th>13069</th>\n",
       "      <td>-121.30</td>\n",
       "      <td>38.58</td>\n",
       "      <td>16.0</td>\n",
       "      <td>1537.0</td>\n",
       "      <td>435.0</td>\n",
       "      <td>1125.0</td>\n",
       "      <td>375.0</td>\n",
       "      <td>2.6471</td>\n",
       "      <td>2.0</td>\n",
       "    </tr>\n",
       "    <tr>\n",
       "      <th>290</th>\n",
       "      <td>-122.16</td>\n",
       "      <td>37.77</td>\n",
       "      <td>47.0</td>\n",
       "      <td>1256.0</td>\n",
       "      <td>435.0</td>\n",
       "      <td>570.0</td>\n",
       "      <td>218.0</td>\n",
       "      <td>4.3750</td>\n",
       "      <td>3.0</td>\n",
       "    </tr>\n",
       "    <tr>\n",
       "      <th>3921</th>\n",
       "      <td>-118.56</td>\n",
       "      <td>34.20</td>\n",
       "      <td>35.0</td>\n",
       "      <td>2273.0</td>\n",
       "      <td>435.0</td>\n",
       "      <td>1431.0</td>\n",
       "      <td>403.0</td>\n",
       "      <td>4.0789</td>\n",
       "      <td>3.0</td>\n",
       "    </tr>\n",
       "    <tr>\n",
       "      <th>4046</th>\n",
       "      <td>-118.49</td>\n",
       "      <td>34.13</td>\n",
       "      <td>24.0</td>\n",
       "      <td>4394.0</td>\n",
       "      <td>435.0</td>\n",
       "      <td>1443.0</td>\n",
       "      <td>528.0</td>\n",
       "      <td>11.2979</td>\n",
       "      <td>5.0</td>\n",
       "    </tr>\n",
       "    <tr>\n",
       "      <th>4391</th>\n",
       "      <td>-118.27</td>\n",
       "      <td>34.07</td>\n",
       "      <td>27.0</td>\n",
       "      <td>1190.0</td>\n",
       "      <td>435.0</td>\n",
       "      <td>1795.0</td>\n",
       "      <td>422.0</td>\n",
       "      <td>1.7016</td>\n",
       "      <td>2.0</td>\n",
       "    </tr>\n",
       "    <tr>\n",
       "      <th>7330</th>\n",
       "      <td>-118.17</td>\n",
       "      <td>33.98</td>\n",
       "      <td>41.0</td>\n",
       "      <td>756.0</td>\n",
       "      <td>435.0</td>\n",
       "      <td>873.0</td>\n",
       "      <td>212.0</td>\n",
       "      <td>2.7321</td>\n",
       "      <td>2.0</td>\n",
       "    </tr>\n",
       "    <tr>\n",
       "      <th>16880</th>\n",
       "      <td>-122.39</td>\n",
       "      <td>37.59</td>\n",
       "      <td>32.0</td>\n",
       "      <td>4497.0</td>\n",
       "      <td>435.0</td>\n",
       "      <td>1846.0</td>\n",
       "      <td>715.0</td>\n",
       "      <td>6.1323</td>\n",
       "      <td>5.0</td>\n",
       "    </tr>\n",
       "    <tr>\n",
       "      <th>19391</th>\n",
       "      <td>-120.85</td>\n",
       "      <td>37.78</td>\n",
       "      <td>25.0</td>\n",
       "      <td>421.0</td>\n",
       "      <td>435.0</td>\n",
       "      <td>303.0</td>\n",
       "      <td>106.0</td>\n",
       "      <td>2.2679</td>\n",
       "      <td>2.0</td>\n",
       "    </tr>\n",
       "    <tr>\n",
       "      <th>14152</th>\n",
       "      <td>-117.09</td>\n",
       "      <td>32.77</td>\n",
       "      <td>31.0</td>\n",
       "      <td>3062.0</td>\n",
       "      <td>435.0</td>\n",
       "      <td>1263.0</td>\n",
       "      <td>539.0</td>\n",
       "      <td>3.0875</td>\n",
       "      <td>3.0</td>\n",
       "    </tr>\n",
       "    <tr>\n",
       "      <th>15118</th>\n",
       "      <td>-116.95</td>\n",
       "      <td>32.84</td>\n",
       "      <td>31.0</td>\n",
       "      <td>1307.0</td>\n",
       "      <td>435.0</td>\n",
       "      <td>752.0</td>\n",
       "      <td>231.0</td>\n",
       "      <td>3.4286</td>\n",
       "      <td>3.0</td>\n",
       "    </tr>\n",
       "    <tr>\n",
       "      <th>13656</th>\n",
       "      <td>-117.30</td>\n",
       "      <td>34.05</td>\n",
       "      <td>6.0</td>\n",
       "      <td>2155.0</td>\n",
       "      <td>435.0</td>\n",
       "      <td>1039.0</td>\n",
       "      <td>391.0</td>\n",
       "      <td>1.6675</td>\n",
       "      <td>2.0</td>\n",
       "    </tr>\n",
       "    <tr>\n",
       "      <th>4852</th>\n",
       "      <td>-118.31</td>\n",
       "      <td>34.03</td>\n",
       "      <td>47.0</td>\n",
       "      <td>1315.0</td>\n",
       "      <td>435.0</td>\n",
       "      <td>785.0</td>\n",
       "      <td>245.0</td>\n",
       "      <td>1.2300</td>\n",
       "      <td>1.0</td>\n",
       "    </tr>\n",
       "    <tr>\n",
       "      <th>538</th>\n",
       "      <td>-122.28</td>\n",
       "      <td>37.78</td>\n",
       "      <td>29.0</td>\n",
       "      <td>5154.0</td>\n",
       "      <td>435.0</td>\n",
       "      <td>3741.0</td>\n",
       "      <td>1273.0</td>\n",
       "      <td>2.5762</td>\n",
       "      <td>2.0</td>\n",
       "    </tr>\n",
       "    <tr>\n",
       "      <th>10885</th>\n",
       "      <td>-117.92</td>\n",
       "      <td>33.70</td>\n",
       "      <td>15.0</td>\n",
       "      <td>3201.0</td>\n",
       "      <td>435.0</td>\n",
       "      <td>1510.0</td>\n",
       "      <td>622.0</td>\n",
       "      <td>4.2708</td>\n",
       "      <td>3.0</td>\n",
       "    </tr>\n",
       "    <tr>\n",
       "      <th>6590</th>\n",
       "      <td>-118.18</td>\n",
       "      <td>34.19</td>\n",
       "      <td>48.0</td>\n",
       "      <td>1371.0</td>\n",
       "      <td>435.0</td>\n",
       "      <td>528.0</td>\n",
       "      <td>155.0</td>\n",
       "      <td>15.0001</td>\n",
       "      <td>5.0</td>\n",
       "    </tr>\n",
       "    <tr>\n",
       "      <th>10236</th>\n",
       "      <td>-117.92</td>\n",
       "      <td>33.87</td>\n",
       "      <td>33.0</td>\n",
       "      <td>1597.0</td>\n",
       "      <td>435.0</td>\n",
       "      <td>1888.0</td>\n",
       "      <td>423.0</td>\n",
       "      <td>3.0550</td>\n",
       "      <td>3.0</td>\n",
       "    </tr>\n",
       "    <tr>\n",
       "      <th>2028</th>\n",
       "      <td>-119.75</td>\n",
       "      <td>36.71</td>\n",
       "      <td>38.0</td>\n",
       "      <td>1481.0</td>\n",
       "      <td>435.0</td>\n",
       "      <td>1543.0</td>\n",
       "      <td>372.0</td>\n",
       "      <td>1.4577</td>\n",
       "      <td>1.0</td>\n",
       "    </tr>\n",
       "    <tr>\n",
       "      <th>11311</th>\n",
       "      <td>-117.96</td>\n",
       "      <td>33.78</td>\n",
       "      <td>33.0</td>\n",
       "      <td>1520.0</td>\n",
       "      <td>435.0</td>\n",
       "      <td>658.0</td>\n",
       "      <td>242.0</td>\n",
       "      <td>4.8750</td>\n",
       "      <td>4.0</td>\n",
       "    </tr>\n",
       "    <tr>\n",
       "      <th>4447</th>\n",
       "      <td>-118.21</td>\n",
       "      <td>34.07</td>\n",
       "      <td>52.0</td>\n",
       "      <td>1770.0</td>\n",
       "      <td>435.0</td>\n",
       "      <td>1848.0</td>\n",
       "      <td>439.0</td>\n",
       "      <td>2.4135</td>\n",
       "      <td>2.0</td>\n",
       "    </tr>\n",
       "    <tr>\n",
       "      <th>2608</th>\n",
       "      <td>-124.00</td>\n",
       "      <td>40.92</td>\n",
       "      <td>29.0</td>\n",
       "      <td>1429.0</td>\n",
       "      <td>435.0</td>\n",
       "      <td>672.0</td>\n",
       "      <td>266.0</td>\n",
       "      <td>2.9485</td>\n",
       "      <td>2.0</td>\n",
       "    </tr>\n",
       "    <tr>\n",
       "      <th>16330</th>\n",
       "      <td>-121.33</td>\n",
       "      <td>38.02</td>\n",
       "      <td>31.0</td>\n",
       "      <td>1466.0</td>\n",
       "      <td>435.0</td>\n",
       "      <td>608.0</td>\n",
       "      <td>254.0</td>\n",
       "      <td>3.1827</td>\n",
       "      <td>3.0</td>\n",
       "    </tr>\n",
       "    <tr>\n",
       "      <th>14307</th>\n",
       "      <td>-117.14</td>\n",
       "      <td>32.71</td>\n",
       "      <td>52.0</td>\n",
       "      <td>500.0</td>\n",
       "      <td>435.0</td>\n",
       "      <td>480.0</td>\n",
       "      <td>108.0</td>\n",
       "      <td>1.8696</td>\n",
       "      <td>2.0</td>\n",
       "    </tr>\n",
       "    <tr>\n",
       "      <th>10761</th>\n",
       "      <td>-117.87</td>\n",
       "      <td>33.62</td>\n",
       "      <td>8.0</td>\n",
       "      <td>1266.0</td>\n",
       "      <td>435.0</td>\n",
       "      <td>375.0</td>\n",
       "      <td>183.0</td>\n",
       "      <td>9.8020</td>\n",
       "      <td>5.0</td>\n",
       "    </tr>\n",
       "    <tr>\n",
       "      <th>6220</th>\n",
       "      <td>-117.91</td>\n",
       "      <td>34.05</td>\n",
       "      <td>35.0</td>\n",
       "      <td>3189.0</td>\n",
       "      <td>435.0</td>\n",
       "      <td>1727.0</td>\n",
       "      <td>500.0</td>\n",
       "      <td>5.0758</td>\n",
       "      <td>4.0</td>\n",
       "    </tr>\n",
       "    <tr>\n",
       "      <th>5751</th>\n",
       "      <td>-118.27</td>\n",
       "      <td>34.17</td>\n",
       "      <td>52.0</td>\n",
       "      <td>2010.0</td>\n",
       "      <td>435.0</td>\n",
       "      <td>908.0</td>\n",
       "      <td>326.0</td>\n",
       "      <td>6.9135</td>\n",
       "      <td>5.0</td>\n",
       "    </tr>\n",
       "    <tr>\n",
       "      <th>...</th>\n",
       "      <td>...</td>\n",
       "      <td>...</td>\n",
       "      <td>...</td>\n",
       "      <td>...</td>\n",
       "      <td>...</td>\n",
       "      <td>...</td>\n",
       "      <td>...</td>\n",
       "      <td>...</td>\n",
       "      <td>...</td>\n",
       "    </tr>\n",
       "    <tr>\n",
       "      <th>3778</th>\n",
       "      <td>-118.40</td>\n",
       "      <td>34.17</td>\n",
       "      <td>24.0</td>\n",
       "      <td>6347.0</td>\n",
       "      <td>435.0</td>\n",
       "      <td>2945.0</td>\n",
       "      <td>1492.0</td>\n",
       "      <td>3.3545</td>\n",
       "      <td>3.0</td>\n",
       "    </tr>\n",
       "    <tr>\n",
       "      <th>4186</th>\n",
       "      <td>-118.23</td>\n",
       "      <td>34.13</td>\n",
       "      <td>48.0</td>\n",
       "      <td>1308.0</td>\n",
       "      <td>435.0</td>\n",
       "      <td>835.0</td>\n",
       "      <td>294.0</td>\n",
       "      <td>4.2891</td>\n",
       "      <td>3.0</td>\n",
       "    </tr>\n",
       "    <tr>\n",
       "      <th>17973</th>\n",
       "      <td>-121.95</td>\n",
       "      <td>37.31</td>\n",
       "      <td>27.0</td>\n",
       "      <td>4140.0</td>\n",
       "      <td>435.0</td>\n",
       "      <td>2135.0</td>\n",
       "      <td>893.0</td>\n",
       "      <td>3.6292</td>\n",
       "      <td>3.0</td>\n",
       "    </tr>\n",
       "    <tr>\n",
       "      <th>4043</th>\n",
       "      <td>-118.50</td>\n",
       "      <td>34.17</td>\n",
       "      <td>37.0</td>\n",
       "      <td>880.0</td>\n",
       "      <td>435.0</td>\n",
       "      <td>369.0</td>\n",
       "      <td>155.0</td>\n",
       "      <td>4.1429</td>\n",
       "      <td>3.0</td>\n",
       "    </tr>\n",
       "    <tr>\n",
       "      <th>7228</th>\n",
       "      <td>-118.16</td>\n",
       "      <td>34.01</td>\n",
       "      <td>40.0</td>\n",
       "      <td>1552.0</td>\n",
       "      <td>435.0</td>\n",
       "      <td>1919.0</td>\n",
       "      <td>427.0</td>\n",
       "      <td>2.2596</td>\n",
       "      <td>2.0</td>\n",
       "    </tr>\n",
       "    <tr>\n",
       "      <th>2323</th>\n",
       "      <td>-119.73</td>\n",
       "      <td>36.83</td>\n",
       "      <td>8.0</td>\n",
       "      <td>3602.0</td>\n",
       "      <td>435.0</td>\n",
       "      <td>1959.0</td>\n",
       "      <td>580.0</td>\n",
       "      <td>5.3478</td>\n",
       "      <td>4.0</td>\n",
       "    </tr>\n",
       "    <tr>\n",
       "      <th>6962</th>\n",
       "      <td>-118.05</td>\n",
       "      <td>33.99</td>\n",
       "      <td>38.0</td>\n",
       "      <td>1619.0</td>\n",
       "      <td>435.0</td>\n",
       "      <td>886.0</td>\n",
       "      <td>357.0</td>\n",
       "      <td>3.7328</td>\n",
       "      <td>3.0</td>\n",
       "    </tr>\n",
       "    <tr>\n",
       "      <th>10428</th>\n",
       "      <td>-117.64</td>\n",
       "      <td>33.45</td>\n",
       "      <td>26.0</td>\n",
       "      <td>1528.0</td>\n",
       "      <td>435.0</td>\n",
       "      <td>607.0</td>\n",
       "      <td>218.0</td>\n",
       "      <td>6.2871</td>\n",
       "      <td>5.0</td>\n",
       "    </tr>\n",
       "    <tr>\n",
       "      <th>12101</th>\n",
       "      <td>-117.34</td>\n",
       "      <td>33.94</td>\n",
       "      <td>13.0</td>\n",
       "      <td>7910.0</td>\n",
       "      <td>435.0</td>\n",
       "      <td>3382.0</td>\n",
       "      <td>1176.0</td>\n",
       "      <td>5.5563</td>\n",
       "      <td>4.0</td>\n",
       "    </tr>\n",
       "    <tr>\n",
       "      <th>18177</th>\n",
       "      <td>-122.00</td>\n",
       "      <td>37.36</td>\n",
       "      <td>17.0</td>\n",
       "      <td>2070.0</td>\n",
       "      <td>435.0</td>\n",
       "      <td>797.0</td>\n",
       "      <td>275.0</td>\n",
       "      <td>8.6155</td>\n",
       "      <td>5.0</td>\n",
       "    </tr>\n",
       "    <tr>\n",
       "      <th>4767</th>\n",
       "      <td>-118.37</td>\n",
       "      <td>34.03</td>\n",
       "      <td>37.0</td>\n",
       "      <td>1236.0</td>\n",
       "      <td>435.0</td>\n",
       "      <td>966.0</td>\n",
       "      <td>292.0</td>\n",
       "      <td>3.0694</td>\n",
       "      <td>3.0</td>\n",
       "    </tr>\n",
       "    <tr>\n",
       "      <th>6241</th>\n",
       "      <td>-117.97</td>\n",
       "      <td>34.06</td>\n",
       "      <td>31.0</td>\n",
       "      <td>2516.0</td>\n",
       "      <td>435.0</td>\n",
       "      <td>2194.0</td>\n",
       "      <td>497.0</td>\n",
       "      <td>3.2413</td>\n",
       "      <td>3.0</td>\n",
       "    </tr>\n",
       "    <tr>\n",
       "      <th>10915</th>\n",
       "      <td>-117.87</td>\n",
       "      <td>33.73</td>\n",
       "      <td>45.0</td>\n",
       "      <td>2264.0</td>\n",
       "      <td>435.0</td>\n",
       "      <td>1970.0</td>\n",
       "      <td>499.0</td>\n",
       "      <td>3.4193</td>\n",
       "      <td>3.0</td>\n",
       "    </tr>\n",
       "    <tr>\n",
       "      <th>18246</th>\n",
       "      <td>-122.08</td>\n",
       "      <td>37.39</td>\n",
       "      <td>4.0</td>\n",
       "      <td>2292.0</td>\n",
       "      <td>435.0</td>\n",
       "      <td>1050.0</td>\n",
       "      <td>584.0</td>\n",
       "      <td>4.8036</td>\n",
       "      <td>4.0</td>\n",
       "    </tr>\n",
       "    <tr>\n",
       "      <th>14015</th>\n",
       "      <td>-117.17</td>\n",
       "      <td>32.75</td>\n",
       "      <td>52.0</td>\n",
       "      <td>1052.0</td>\n",
       "      <td>435.0</td>\n",
       "      <td>381.0</td>\n",
       "      <td>201.0</td>\n",
       "      <td>3.0726</td>\n",
       "      <td>3.0</td>\n",
       "    </tr>\n",
       "    <tr>\n",
       "      <th>19332</th>\n",
       "      <td>-122.91</td>\n",
       "      <td>38.46</td>\n",
       "      <td>18.0</td>\n",
       "      <td>2021.0</td>\n",
       "      <td>435.0</td>\n",
       "      <td>912.0</td>\n",
       "      <td>329.0</td>\n",
       "      <td>4.5000</td>\n",
       "      <td>3.0</td>\n",
       "    </tr>\n",
       "    <tr>\n",
       "      <th>2412</th>\n",
       "      <td>-119.45</td>\n",
       "      <td>36.61</td>\n",
       "      <td>24.0</td>\n",
       "      <td>1302.0</td>\n",
       "      <td>435.0</td>\n",
       "      <td>693.0</td>\n",
       "      <td>243.0</td>\n",
       "      <td>3.7917</td>\n",
       "      <td>3.0</td>\n",
       "    </tr>\n",
       "    <tr>\n",
       "      <th>3024</th>\n",
       "      <td>-119.46</td>\n",
       "      <td>35.14</td>\n",
       "      <td>30.0</td>\n",
       "      <td>2943.0</td>\n",
       "      <td>435.0</td>\n",
       "      <td>1565.0</td>\n",
       "      <td>584.0</td>\n",
       "      <td>2.5313</td>\n",
       "      <td>2.0</td>\n",
       "    </tr>\n",
       "    <tr>\n",
       "      <th>14462</th>\n",
       "      <td>-117.27</td>\n",
       "      <td>32.85</td>\n",
       "      <td>26.0</td>\n",
       "      <td>1373.0</td>\n",
       "      <td>435.0</td>\n",
       "      <td>608.0</td>\n",
       "      <td>268.0</td>\n",
       "      <td>4.4250</td>\n",
       "      <td>3.0</td>\n",
       "    </tr>\n",
       "    <tr>\n",
       "      <th>19818</th>\n",
       "      <td>-119.30</td>\n",
       "      <td>36.57</td>\n",
       "      <td>32.0</td>\n",
       "      <td>728.0</td>\n",
       "      <td>435.0</td>\n",
       "      <td>461.0</td>\n",
       "      <td>149.0</td>\n",
       "      <td>3.0156</td>\n",
       "      <td>3.0</td>\n",
       "    </tr>\n",
       "    <tr>\n",
       "      <th>13932</th>\n",
       "      <td>-117.28</td>\n",
       "      <td>34.26</td>\n",
       "      <td>18.0</td>\n",
       "      <td>3895.0</td>\n",
       "      <td>435.0</td>\n",
       "      <td>1086.0</td>\n",
       "      <td>375.0</td>\n",
       "      <td>3.3672</td>\n",
       "      <td>3.0</td>\n",
       "    </tr>\n",
       "    <tr>\n",
       "      <th>5059</th>\n",
       "      <td>-118.35</td>\n",
       "      <td>34.01</td>\n",
       "      <td>35.0</td>\n",
       "      <td>3776.0</td>\n",
       "      <td>435.0</td>\n",
       "      <td>1583.0</td>\n",
       "      <td>749.0</td>\n",
       "      <td>3.5486</td>\n",
       "      <td>3.0</td>\n",
       "    </tr>\n",
       "    <tr>\n",
       "      <th>2420</th>\n",
       "      <td>-119.44</td>\n",
       "      <td>36.58</td>\n",
       "      <td>37.0</td>\n",
       "      <td>1054.0</td>\n",
       "      <td>435.0</td>\n",
       "      <td>879.0</td>\n",
       "      <td>257.0</td>\n",
       "      <td>2.5234</td>\n",
       "      <td>2.0</td>\n",
       "    </tr>\n",
       "    <tr>\n",
       "      <th>11441</th>\n",
       "      <td>-117.98</td>\n",
       "      <td>33.73</td>\n",
       "      <td>18.0</td>\n",
       "      <td>3833.0</td>\n",
       "      <td>435.0</td>\n",
       "      <td>2192.0</td>\n",
       "      <td>996.0</td>\n",
       "      <td>3.4679</td>\n",
       "      <td>3.0</td>\n",
       "    </tr>\n",
       "    <tr>\n",
       "      <th>19402</th>\n",
       "      <td>-120.93</td>\n",
       "      <td>37.73</td>\n",
       "      <td>14.0</td>\n",
       "      <td>2799.0</td>\n",
       "      <td>435.0</td>\n",
       "      <td>2294.0</td>\n",
       "      <td>596.0</td>\n",
       "      <td>2.6343</td>\n",
       "      <td>2.0</td>\n",
       "    </tr>\n",
       "    <tr>\n",
       "      <th>19559</th>\n",
       "      <td>-120.98</td>\n",
       "      <td>37.60</td>\n",
       "      <td>36.0</td>\n",
       "      <td>1437.0</td>\n",
       "      <td>435.0</td>\n",
       "      <td>1073.0</td>\n",
       "      <td>320.0</td>\n",
       "      <td>2.1779</td>\n",
       "      <td>2.0</td>\n",
       "    </tr>\n",
       "    <tr>\n",
       "      <th>1350</th>\n",
       "      <td>-121.95</td>\n",
       "      <td>38.03</td>\n",
       "      <td>5.0</td>\n",
       "      <td>5526.0</td>\n",
       "      <td>435.0</td>\n",
       "      <td>3207.0</td>\n",
       "      <td>1012.0</td>\n",
       "      <td>4.0767</td>\n",
       "      <td>3.0</td>\n",
       "    </tr>\n",
       "    <tr>\n",
       "      <th>4667</th>\n",
       "      <td>-118.29</td>\n",
       "      <td>34.05</td>\n",
       "      <td>34.0</td>\n",
       "      <td>1102.0</td>\n",
       "      <td>435.0</td>\n",
       "      <td>1325.0</td>\n",
       "      <td>439.0</td>\n",
       "      <td>1.5972</td>\n",
       "      <td>2.0</td>\n",
       "    </tr>\n",
       "    <tr>\n",
       "      <th>8915</th>\n",
       "      <td>-118.46</td>\n",
       "      <td>34.03</td>\n",
       "      <td>52.0</td>\n",
       "      <td>523.0</td>\n",
       "      <td>435.0</td>\n",
       "      <td>317.0</td>\n",
       "      <td>130.0</td>\n",
       "      <td>2.2794</td>\n",
       "      <td>2.0</td>\n",
       "    </tr>\n",
       "    <tr>\n",
       "      <th>20484</th>\n",
       "      <td>-118.72</td>\n",
       "      <td>34.28</td>\n",
       "      <td>17.0</td>\n",
       "      <td>3051.0</td>\n",
       "      <td>435.0</td>\n",
       "      <td>1705.0</td>\n",
       "      <td>495.0</td>\n",
       "      <td>5.7376</td>\n",
       "      <td>4.0</td>\n",
       "    </tr>\n",
       "  </tbody>\n",
       "</table>\n",
       "<p>170 rows × 9 columns</p>\n",
       "</div>"
      ],
      "text/plain": [
       "       longitude  latitude  housing_median_age  total_rooms  total_bedrooms  \\\n",
       "4591     -118.28     34.06                42.0       2472.0           435.0   \n",
       "7097     -117.98     33.92                27.0       3700.0           435.0   \n",
       "13597    -117.28     34.09                44.0        376.0           435.0   \n",
       "17202    -119.73     34.44                38.0       1729.0           435.0   \n",
       "14331    -117.15     32.72                51.0       1321.0           435.0   \n",
       "13069    -121.30     38.58                16.0       1537.0           435.0   \n",
       "290      -122.16     37.77                47.0       1256.0           435.0   \n",
       "3921     -118.56     34.20                35.0       2273.0           435.0   \n",
       "4046     -118.49     34.13                24.0       4394.0           435.0   \n",
       "4391     -118.27     34.07                27.0       1190.0           435.0   \n",
       "7330     -118.17     33.98                41.0        756.0           435.0   \n",
       "16880    -122.39     37.59                32.0       4497.0           435.0   \n",
       "19391    -120.85     37.78                25.0        421.0           435.0   \n",
       "14152    -117.09     32.77                31.0       3062.0           435.0   \n",
       "15118    -116.95     32.84                31.0       1307.0           435.0   \n",
       "13656    -117.30     34.05                 6.0       2155.0           435.0   \n",
       "4852     -118.31     34.03                47.0       1315.0           435.0   \n",
       "538      -122.28     37.78                29.0       5154.0           435.0   \n",
       "10885    -117.92     33.70                15.0       3201.0           435.0   \n",
       "6590     -118.18     34.19                48.0       1371.0           435.0   \n",
       "10236    -117.92     33.87                33.0       1597.0           435.0   \n",
       "2028     -119.75     36.71                38.0       1481.0           435.0   \n",
       "11311    -117.96     33.78                33.0       1520.0           435.0   \n",
       "4447     -118.21     34.07                52.0       1770.0           435.0   \n",
       "2608     -124.00     40.92                29.0       1429.0           435.0   \n",
       "16330    -121.33     38.02                31.0       1466.0           435.0   \n",
       "14307    -117.14     32.71                52.0        500.0           435.0   \n",
       "10761    -117.87     33.62                 8.0       1266.0           435.0   \n",
       "6220     -117.91     34.05                35.0       3189.0           435.0   \n",
       "5751     -118.27     34.17                52.0       2010.0           435.0   \n",
       "...          ...       ...                 ...          ...             ...   \n",
       "3778     -118.40     34.17                24.0       6347.0           435.0   \n",
       "4186     -118.23     34.13                48.0       1308.0           435.0   \n",
       "17973    -121.95     37.31                27.0       4140.0           435.0   \n",
       "4043     -118.50     34.17                37.0        880.0           435.0   \n",
       "7228     -118.16     34.01                40.0       1552.0           435.0   \n",
       "2323     -119.73     36.83                 8.0       3602.0           435.0   \n",
       "6962     -118.05     33.99                38.0       1619.0           435.0   \n",
       "10428    -117.64     33.45                26.0       1528.0           435.0   \n",
       "12101    -117.34     33.94                13.0       7910.0           435.0   \n",
       "18177    -122.00     37.36                17.0       2070.0           435.0   \n",
       "4767     -118.37     34.03                37.0       1236.0           435.0   \n",
       "6241     -117.97     34.06                31.0       2516.0           435.0   \n",
       "10915    -117.87     33.73                45.0       2264.0           435.0   \n",
       "18246    -122.08     37.39                 4.0       2292.0           435.0   \n",
       "14015    -117.17     32.75                52.0       1052.0           435.0   \n",
       "19332    -122.91     38.46                18.0       2021.0           435.0   \n",
       "2412     -119.45     36.61                24.0       1302.0           435.0   \n",
       "3024     -119.46     35.14                30.0       2943.0           435.0   \n",
       "14462    -117.27     32.85                26.0       1373.0           435.0   \n",
       "19818    -119.30     36.57                32.0        728.0           435.0   \n",
       "13932    -117.28     34.26                18.0       3895.0           435.0   \n",
       "5059     -118.35     34.01                35.0       3776.0           435.0   \n",
       "2420     -119.44     36.58                37.0       1054.0           435.0   \n",
       "11441    -117.98     33.73                18.0       3833.0           435.0   \n",
       "19402    -120.93     37.73                14.0       2799.0           435.0   \n",
       "19559    -120.98     37.60                36.0       1437.0           435.0   \n",
       "1350     -121.95     38.03                 5.0       5526.0           435.0   \n",
       "4667     -118.29     34.05                34.0       1102.0           435.0   \n",
       "8915     -118.46     34.03                52.0        523.0           435.0   \n",
       "20484    -118.72     34.28                17.0       3051.0           435.0   \n",
       "\n",
       "       population  households  median_income  income_cat  \n",
       "4591       3795.0      1179.0         1.2254         1.0  \n",
       "7097       1793.0       552.0         5.3668         4.0  \n",
       "13597       273.0       107.0         2.2917         2.0  \n",
       "17202       801.0       395.0         3.1364         3.0  \n",
       "14331       781.0       499.0         1.3071         1.0  \n",
       "13069      1125.0       375.0         2.6471         2.0  \n",
       "290         570.0       218.0         4.3750         3.0  \n",
       "3921       1431.0       403.0         4.0789         3.0  \n",
       "4046       1443.0       528.0        11.2979         5.0  \n",
       "4391       1795.0       422.0         1.7016         2.0  \n",
       "7330        873.0       212.0         2.7321         2.0  \n",
       "16880      1846.0       715.0         6.1323         5.0  \n",
       "19391       303.0       106.0         2.2679         2.0  \n",
       "14152      1263.0       539.0         3.0875         3.0  \n",
       "15118       752.0       231.0         3.4286         3.0  \n",
       "13656      1039.0       391.0         1.6675         2.0  \n",
       "4852        785.0       245.0         1.2300         1.0  \n",
       "538        3741.0      1273.0         2.5762         2.0  \n",
       "10885      1510.0       622.0         4.2708         3.0  \n",
       "6590        528.0       155.0        15.0001         5.0  \n",
       "10236      1888.0       423.0         3.0550         3.0  \n",
       "2028       1543.0       372.0         1.4577         1.0  \n",
       "11311       658.0       242.0         4.8750         4.0  \n",
       "4447       1848.0       439.0         2.4135         2.0  \n",
       "2608        672.0       266.0         2.9485         2.0  \n",
       "16330       608.0       254.0         3.1827         3.0  \n",
       "14307       480.0       108.0         1.8696         2.0  \n",
       "10761       375.0       183.0         9.8020         5.0  \n",
       "6220       1727.0       500.0         5.0758         4.0  \n",
       "5751        908.0       326.0         6.9135         5.0  \n",
       "...           ...         ...            ...         ...  \n",
       "3778       2945.0      1492.0         3.3545         3.0  \n",
       "4186        835.0       294.0         4.2891         3.0  \n",
       "17973      2135.0       893.0         3.6292         3.0  \n",
       "4043        369.0       155.0         4.1429         3.0  \n",
       "7228       1919.0       427.0         2.2596         2.0  \n",
       "2323       1959.0       580.0         5.3478         4.0  \n",
       "6962        886.0       357.0         3.7328         3.0  \n",
       "10428       607.0       218.0         6.2871         5.0  \n",
       "12101      3382.0      1176.0         5.5563         4.0  \n",
       "18177       797.0       275.0         8.6155         5.0  \n",
       "4767        966.0       292.0         3.0694         3.0  \n",
       "6241       2194.0       497.0         3.2413         3.0  \n",
       "10915      1970.0       499.0         3.4193         3.0  \n",
       "18246      1050.0       584.0         4.8036         4.0  \n",
       "14015       381.0       201.0         3.0726         3.0  \n",
       "19332       912.0       329.0         4.5000         3.0  \n",
       "2412        693.0       243.0         3.7917         3.0  \n",
       "3024       1565.0       584.0         2.5313         2.0  \n",
       "14462       608.0       268.0         4.4250         3.0  \n",
       "19818       461.0       149.0         3.0156         3.0  \n",
       "13932      1086.0       375.0         3.3672         3.0  \n",
       "5059       1583.0       749.0         3.5486         3.0  \n",
       "2420        879.0       257.0         2.5234         2.0  \n",
       "11441      2192.0       996.0         3.4679         3.0  \n",
       "19402      2294.0       596.0         2.6343         2.0  \n",
       "19559      1073.0       320.0         2.1779         2.0  \n",
       "1350       3207.0      1012.0         4.0767         3.0  \n",
       "4667       1325.0       439.0         1.5972         2.0  \n",
       "8915        317.0       130.0         2.2794         2.0  \n",
       "20484      1705.0       495.0         5.7376         4.0  \n",
       "\n",
       "[170 rows x 9 columns]"
      ]
     },
     "execution_count": 53,
     "metadata": {},
     "output_type": "execute_result"
    }
   ],
   "source": [
    "# Check that the Imputer successfully impute the Null values with median value\n",
    "\n",
    "transformed_housing.loc[incomplete_rows.index.values]"
   ]
  },
  {
   "cell_type": "markdown",
   "metadata": {},
   "source": [
    "---"
   ]
  },
  {
   "cell_type": "markdown",
   "metadata": {},
   "source": [
    "### Non-Numerical Data"
   ]
  },
  {
   "cell_type": "code",
   "execution_count": 54,
   "metadata": {},
   "outputs": [
    {
     "data": {
      "text/plain": [
       "array(['INLAND', '<1H OCEAN', 'NEAR OCEAN', 'NEAR BAY', 'ISLAND'],\n",
       "      dtype=object)"
      ]
     },
     "execution_count": 54,
     "metadata": {},
     "output_type": "execute_result"
    }
   ],
   "source": [
    "housing['ocean_proximity'].unique()"
   ]
  },
  {
   "cell_type": "code",
   "execution_count": 55,
   "metadata": {},
   "outputs": [
    {
     "data": {
      "text/html": [
       "<div>\n",
       "<style scoped>\n",
       "    .dataframe tbody tr th:only-of-type {\n",
       "        vertical-align: middle;\n",
       "    }\n",
       "\n",
       "    .dataframe tbody tr th {\n",
       "        vertical-align: top;\n",
       "    }\n",
       "\n",
       "    .dataframe thead th {\n",
       "        text-align: right;\n",
       "    }\n",
       "</style>\n",
       "<table border=\"1\" class=\"dataframe\">\n",
       "  <thead>\n",
       "    <tr style=\"text-align: right;\">\n",
       "      <th></th>\n",
       "      <th>ocean_proximity</th>\n",
       "    </tr>\n",
       "  </thead>\n",
       "  <tbody>\n",
       "    <tr>\n",
       "      <th>13342</th>\n",
       "      <td>INLAND</td>\n",
       "    </tr>\n",
       "    <tr>\n",
       "      <th>10651</th>\n",
       "      <td>&lt;1H OCEAN</td>\n",
       "    </tr>\n",
       "    <tr>\n",
       "      <th>6556</th>\n",
       "      <td>INLAND</td>\n",
       "    </tr>\n",
       "    <tr>\n",
       "      <th>11450</th>\n",
       "      <td>&lt;1H OCEAN</td>\n",
       "    </tr>\n",
       "    <tr>\n",
       "      <th>14821</th>\n",
       "      <td>NEAR OCEAN</td>\n",
       "    </tr>\n",
       "  </tbody>\n",
       "</table>\n",
       "</div>"
      ],
      "text/plain": [
       "      ocean_proximity\n",
       "13342          INLAND\n",
       "10651       <1H OCEAN\n",
       "6556           INLAND\n",
       "11450       <1H OCEAN\n",
       "14821      NEAR OCEAN"
      ]
     },
     "execution_count": 55,
     "metadata": {},
     "output_type": "execute_result"
    }
   ],
   "source": [
    "housing_cat = housing[['ocean_proximity']]\n",
    "housing_cat.head()"
   ]
  },
  {
   "cell_type": "code",
   "execution_count": 56,
   "metadata": {},
   "outputs": [],
   "source": [
    "# Transform this categorical data into numeric categorical data\n",
    "\n",
    "from sklearn.preprocessing import LabelEncoder"
   ]
  },
  {
   "cell_type": "code",
   "execution_count": 57,
   "metadata": {},
   "outputs": [],
   "source": [
    "# Create an categorical encoder\n",
    "\n",
    "encoder = LabelEncoder()"
   ]
  },
  {
   "cell_type": "code",
   "execution_count": 58,
   "metadata": {},
   "outputs": [
    {
     "name": "stderr",
     "output_type": "stream",
     "text": [
      "/usr/local/lib/python3.6/dist-packages/sklearn/preprocessing/label.py:235: DataConversionWarning: A column-vector y was passed when a 1d array was expected. Please change the shape of y to (n_samples, ), for example using ravel().\n",
      "  y = column_or_1d(y, warn=True)\n"
     ]
    }
   ],
   "source": [
    "encoded_housing_cat = encoder.fit_transform(housing_cat)"
   ]
  },
  {
   "cell_type": "code",
   "execution_count": 59,
   "metadata": {},
   "outputs": [
    {
     "data": {
      "text/plain": [
       "array([1, 0, 1, ..., 1, 0, 0])"
      ]
     },
     "execution_count": 59,
     "metadata": {},
     "output_type": "execute_result"
    }
   ],
   "source": [
    "encoded_housing_cat"
   ]
  },
  {
   "cell_type": "code",
   "execution_count": 60,
   "metadata": {},
   "outputs": [
    {
     "data": {
      "text/plain": [
       "array(['<1H OCEAN', 'INLAND', 'ISLAND', 'NEAR BAY', 'NEAR OCEAN'],\n",
       "      dtype=object)"
      ]
     },
     "execution_count": 60,
     "metadata": {},
     "output_type": "execute_result"
    }
   ],
   "source": [
    "encoder.classes_"
   ]
  },
  {
   "cell_type": "markdown",
   "metadata": {},
   "source": [
    "---"
   ]
  },
  {
   "cell_type": "markdown",
   "metadata": {},
   "source": [
    "#### Ordinal Encoder"
   ]
  },
  {
   "cell_type": "code",
   "execution_count": 61,
   "metadata": {},
   "outputs": [],
   "source": [
    "from sklearn.preprocessing import OrdinalEncoder"
   ]
  },
  {
   "cell_type": "code",
   "execution_count": 62,
   "metadata": {},
   "outputs": [],
   "source": [
    "ordinal_encoder = OrdinalEncoder()"
   ]
  },
  {
   "cell_type": "code",
   "execution_count": 63,
   "metadata": {},
   "outputs": [
    {
     "data": {
      "text/plain": [
       "array([[1.],\n",
       "       [0.],\n",
       "       [1.],\n",
       "       [0.],\n",
       "       [4.],\n",
       "       [4.],\n",
       "       [0.],\n",
       "       [4.],\n",
       "       [1.],\n",
       "       [1.]])"
      ]
     },
     "execution_count": 63,
     "metadata": {},
     "output_type": "execute_result"
    }
   ],
   "source": [
    "housing_cat_encoded = ordinal_encoder.fit_transform(housing_cat)\n",
    "housing_cat_encoded[:10]"
   ]
  },
  {
   "cell_type": "code",
   "execution_count": 64,
   "metadata": {},
   "outputs": [
    {
     "data": {
      "text/plain": [
       "[array(['<1H OCEAN', 'INLAND', 'ISLAND', 'NEAR BAY', 'NEAR OCEAN'],\n",
       "       dtype=object)]"
      ]
     },
     "execution_count": 64,
     "metadata": {},
     "output_type": "execute_result"
    }
   ],
   "source": [
    "ordinal_encoder.categories_"
   ]
  },
  {
   "cell_type": "markdown",
   "metadata": {},
   "source": [
    "---"
   ]
  },
  {
   "cell_type": "markdown",
   "metadata": {},
   "source": [
    "#### One-Hot Encoding"
   ]
  },
  {
   "cell_type": "code",
   "execution_count": 65,
   "metadata": {},
   "outputs": [],
   "source": [
    "from sklearn.preprocessing import OneHotEncoder"
   ]
  },
  {
   "cell_type": "code",
   "execution_count": 66,
   "metadata": {},
   "outputs": [],
   "source": [
    "onehot_encoder = OneHotEncoder()"
   ]
  },
  {
   "cell_type": "code",
   "execution_count": 67,
   "metadata": {},
   "outputs": [
    {
     "data": {
      "text/plain": [
       "<16512x5 sparse matrix of type '<class 'numpy.float64'>'\n",
       "\twith 16512 stored elements in Compressed Sparse Row format>"
      ]
     },
     "execution_count": 67,
     "metadata": {},
     "output_type": "execute_result"
    }
   ],
   "source": [
    "housing_cat_onehot_encoded = onehot_encoder.fit_transform(housing_cat)\n",
    "housing_cat_onehot_encoded"
   ]
  },
  {
   "cell_type": "code",
   "execution_count": 68,
   "metadata": {},
   "outputs": [
    {
     "data": {
      "text/plain": [
       "array([[0., 1., 0., 0., 0.],\n",
       "       [1., 0., 0., 0., 0.],\n",
       "       [0., 1., 0., 0., 0.],\n",
       "       ...,\n",
       "       [0., 1., 0., 0., 0.],\n",
       "       [1., 0., 0., 0., 0.],\n",
       "       [1., 0., 0., 0., 0.]])"
      ]
     },
     "execution_count": 68,
     "metadata": {},
     "output_type": "execute_result"
    }
   ],
   "source": [
    "housing_cat_onehot_encoded.toarray()"
   ]
  },
  {
   "cell_type": "code",
   "execution_count": 69,
   "metadata": {},
   "outputs": [
    {
     "data": {
      "text/html": [
       "<div>\n",
       "<style scoped>\n",
       "    .dataframe tbody tr th:only-of-type {\n",
       "        vertical-align: middle;\n",
       "    }\n",
       "\n",
       "    .dataframe tbody tr th {\n",
       "        vertical-align: top;\n",
       "    }\n",
       "\n",
       "    .dataframe thead th {\n",
       "        text-align: right;\n",
       "    }\n",
       "</style>\n",
       "<table border=\"1\" class=\"dataframe\">\n",
       "  <thead>\n",
       "    <tr style=\"text-align: right;\">\n",
       "      <th></th>\n",
       "      <th>ocean_proximity</th>\n",
       "    </tr>\n",
       "  </thead>\n",
       "  <tbody>\n",
       "    <tr>\n",
       "      <th>13342</th>\n",
       "      <td>INLAND</td>\n",
       "    </tr>\n",
       "    <tr>\n",
       "      <th>10651</th>\n",
       "      <td>&lt;1H OCEAN</td>\n",
       "    </tr>\n",
       "    <tr>\n",
       "      <th>6556</th>\n",
       "      <td>INLAND</td>\n",
       "    </tr>\n",
       "    <tr>\n",
       "      <th>11450</th>\n",
       "      <td>&lt;1H OCEAN</td>\n",
       "    </tr>\n",
       "    <tr>\n",
       "      <th>14821</th>\n",
       "      <td>NEAR OCEAN</td>\n",
       "    </tr>\n",
       "    <tr>\n",
       "      <th>14187</th>\n",
       "      <td>NEAR OCEAN</td>\n",
       "    </tr>\n",
       "    <tr>\n",
       "      <th>7581</th>\n",
       "      <td>&lt;1H OCEAN</td>\n",
       "    </tr>\n",
       "    <tr>\n",
       "      <th>16842</th>\n",
       "      <td>NEAR OCEAN</td>\n",
       "    </tr>\n",
       "    <tr>\n",
       "      <th>13274</th>\n",
       "      <td>INLAND</td>\n",
       "    </tr>\n",
       "    <tr>\n",
       "      <th>11972</th>\n",
       "      <td>INLAND</td>\n",
       "    </tr>\n",
       "  </tbody>\n",
       "</table>\n",
       "</div>"
      ],
      "text/plain": [
       "      ocean_proximity\n",
       "13342          INLAND\n",
       "10651       <1H OCEAN\n",
       "6556           INLAND\n",
       "11450       <1H OCEAN\n",
       "14821      NEAR OCEAN\n",
       "14187      NEAR OCEAN\n",
       "7581        <1H OCEAN\n",
       "16842      NEAR OCEAN\n",
       "13274          INLAND\n",
       "11972          INLAND"
      ]
     },
     "execution_count": 69,
     "metadata": {},
     "output_type": "execute_result"
    }
   ],
   "source": [
    "housing_cat[:10]"
   ]
  },
  {
   "cell_type": "markdown",
   "metadata": {},
   "source": [
    "> #### Sparse set to True for memory optimization"
   ]
  },
  {
   "cell_type": "code",
   "execution_count": 70,
   "metadata": {},
   "outputs": [],
   "source": [
    "onehot_encoder = OneHotEncoder(sparse=False)"
   ]
  },
  {
   "cell_type": "code",
   "execution_count": 71,
   "metadata": {},
   "outputs": [
    {
     "data": {
      "text/plain": [
       "array([[0., 1., 0., 0., 0.],\n",
       "       [1., 0., 0., 0., 0.],\n",
       "       [0., 1., 0., 0., 0.],\n",
       "       ...,\n",
       "       [0., 1., 0., 0., 0.],\n",
       "       [1., 0., 0., 0., 0.],\n",
       "       [1., 0., 0., 0., 0.]])"
      ]
     },
     "execution_count": 71,
     "metadata": {},
     "output_type": "execute_result"
    }
   ],
   "source": [
    "housing_cat_onehot_encoded = onehot_encoder.fit_transform(housing_cat)\n",
    "housing_cat_onehot_encoded"
   ]
  },
  {
   "cell_type": "code",
   "execution_count": 72,
   "metadata": {},
   "outputs": [
    {
     "data": {
      "text/plain": [
       "[array(['<1H OCEAN', 'INLAND', 'ISLAND', 'NEAR BAY', 'NEAR OCEAN'],\n",
       "       dtype=object)]"
      ]
     },
     "execution_count": 72,
     "metadata": {},
     "output_type": "execute_result"
    }
   ],
   "source": [
    "onehot_encoder.categories_"
   ]
  },
  {
   "cell_type": "markdown",
   "metadata": {},
   "source": [
    "---"
   ]
  },
  {
   "cell_type": "markdown",
   "metadata": {},
   "source": [
    "#### Write a Customized Encoder"
   ]
  },
  {
   "cell_type": "code",
   "execution_count": 73,
   "metadata": {},
   "outputs": [],
   "source": [
    "from sklearn.base import BaseEstimator, TransformerMixin"
   ]
  },
  {
   "cell_type": "code",
   "execution_count": 74,
   "metadata": {},
   "outputs": [],
   "source": [
    "rooms_i, bedrooms_i, population_i, household_i = 3,4,5,6"
   ]
  },
  {
   "cell_type": "code",
   "execution_count": 96,
   "metadata": {},
   "outputs": [],
   "source": [
    "class CustomTransformer(BaseEstimator, TransformerMixin):\n",
    "    def __init__(self, add_bedrooms_per_room = True): #no args or **kargs\n",
    "        self.add_bedrooms_per_room = add_bedrooms_per_room\n",
    "        \n",
    "    def fit(self, X, y=None):\n",
    "        return self #nothing else to do\n",
    "    \n",
    "    def transform(self, X, y=None):\n",
    "        rooms_per_household = X[:, rooms_i]/X[:,household_i]\n",
    "        population_per_household = X[:, population_i]/X[:, household_i]\n",
    "        \n",
    "        if self.add_bedrooms_per_room:\n",
    "            bedrooms_per_room = X[:, bedrooms_i]/X[:, rooms_i]\n",
    "            return np.c_[X, rooms_per_household, population_per_household, bedrooms_per_room]\n",
    "        \n",
    "        else:\n",
    "            return np.c_[X, rooms_per_household, population_per_household]"
   ]
  },
  {
   "cell_type": "code",
   "execution_count": 97,
   "metadata": {},
   "outputs": [],
   "source": [
    "custom_features = CustomTransformer(add_bedrooms_per_room=False)"
   ]
  },
  {
   "cell_type": "code",
   "execution_count": 98,
   "metadata": {},
   "outputs": [
    {
     "data": {
      "text/plain": [
       "array([[-117.65, 34.03, 15.0, ..., 3.0, 5.151515151515151,\n",
       "        2.765734265734266],\n",
       "       [-117.77, 33.51, 29.0, ..., 3.0, 5.9535655058043115,\n",
       "        1.7744610281923714],\n",
       "       [-118.11, 34.19, 50.0, ..., 5.0, 7.114427860696518,\n",
       "        3.084577114427861],\n",
       "       ...,\n",
       "       [-117.44, 33.9, 23.0, ..., 3.0, 5.767352185089974,\n",
       "        3.353470437017995],\n",
       "       [-118.36, 34.15, 41.0, ..., 3.0, 5.445468509984639,\n",
       "        1.8755760368663594],\n",
       "       [-118.12, 33.95, 35.0, ..., 4.0, 5.728571428571429,\n",
       "        2.8642857142857143]], dtype=object)"
      ]
     },
     "execution_count": 98,
     "metadata": {},
     "output_type": "execute_result"
    }
   ],
   "source": [
    "housing_with_custom_features = custom_features.transform(housing.values)\n",
    "housing_with_custom_features"
   ]
  },
  {
   "cell_type": "code",
   "execution_count": null,
   "metadata": {},
   "outputs": [],
   "source": []
  }
 ],
 "metadata": {
  "kernelspec": {
   "display_name": "Python 3",
   "language": "python",
   "name": "python3"
  },
  "language_info": {
   "codemirror_mode": {
    "name": "ipython",
    "version": 3
   },
   "file_extension": ".py",
   "mimetype": "text/x-python",
   "name": "python",
   "nbconvert_exporter": "python",
   "pygments_lexer": "ipython3",
   "version": "3.6.5"
  }
 },
 "nbformat": 4,
 "nbformat_minor": 2
}
